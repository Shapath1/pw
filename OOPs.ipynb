{
  "nbformat": 4,
  "nbformat_minor": 0,
  "metadata": {
    "colab": {
      "provenance": []
    },
    "kernelspec": {
      "name": "python3",
      "display_name": "Python 3"
    },
    "language_info": {
      "name": "python"
    }
  },
  "cells": [
    {
      "cell_type": "markdown",
      "source": [
        "**1.  What is Object-Oriented Programming (OOP)?**\n",
        "\n",
        "Ans. Object-Oriented Programming (OOP) is a programming style where code is organized into objects that bundle data (attributes) and behaviors (methods).\n",
        "\n",
        "Key Concepts:\n",
        "\n",
        "Encapsulation: Hides details within objects.\n",
        "\n",
        "Inheritance: Shares features between classes.\n",
        "\n",
        "Polymorphism: Adapts methods for different objects.\n",
        "\n",
        "Abstraction: Focuses on essential details.\n",
        "\n",
        "**2. What is a class in OOP?**\n",
        "\n",
        "Ans. A class in Object-Oriented Programming (OOP) is a blueprint for creating objects. It defines the properties (attributes) and behaviors (methods) that the objects created from it will have.\n",
        "\n",
        "**3.  What is an object in OOP?**\n",
        "\n",
        "Ans. An object in Object-Oriented Programming (OOP) is an instance of a class. It represents a real-world entity or concept, combining data (attributes) and behavior (methods) defined by its class.\n",
        "\n",
        "**4.  What is the difference between abstraction and encapsulation?**\n",
        "\n",
        "Ans. Abstraction:\n",
        "\n",
        "Definition: Hides unnecessary details and shows only the essential features of an object or process.\n",
        "\n",
        "Purpose: Focus on \"what\" an object does rather than \"how\" it does it.\n",
        "\n",
        "Implementation: Achieved using abstract classes, interfaces, or methods.\n",
        "\n",
        "Encapsulation:\n",
        "\n",
        "Definition: Bundles data and methods together, restricting direct access to some of an object's components.\n",
        "\n",
        "Purpose: Protect sensitive data by controlling access through methods (getters/setters).\n",
        "\n",
        "Implementation: Achieved using private/protected members and methods.\n",
        "\n",
        "Key Difference:\n",
        "\n",
        "Abstraction: Focuses on hiding complexity and exposing the functionality.\n",
        "\n",
        "Encapsulation: Focuses on hiding internal details and protecting the data.\n",
        "\n",
        "**5.  What are dunder methods in Python?**\n",
        "\n",
        "Ans. Dunder methods in Python are special methods with names surrounded by double underscores, like __init__, __str__, and __add__. They enable customization of built-in behavior for objects, such as initialization, string representation, and operator overloading.\n",
        "\n",
        "Key Features:\n",
        "\n",
        "-Often called magic methods.\n",
        "\n",
        "-Automatically invoked by Python in certain situations.\n",
        "\n",
        "-Used to define object behavior with built-in functions and operators.\n",
        "\n",
        "**6.  Explain the concept of inheritance in OOP.**\n",
        "\n",
        "Ans. Inheritance in Object-Oriented Programming (OOP) allows a class (called the child class or subclass) to inherit properties and methods from another class (called the parent class or superclass). This promotes code reuse and establishes a relationship between classes.\n",
        "\n",
        "Key Points:\n",
        "\n",
        "-Parent Class: The class being inherited from.\n",
        "\n",
        "-Child Class: The class that inherits.\n",
        "\n",
        "-Child classes can:\n",
        "\n",
        "--Use inherited methods and attributes.\n",
        "\n",
        "--Override methods to provide specific behavior.\n",
        "\n",
        "--Add new methods or attributes.\n",
        "\n",
        "**7. What is polymorphism in OOP?**\n",
        "\n",
        "Ans. Polymorphism in Object-Oriented Programming (OOP) allows objects of different classes to be treated as objects of a common superclass. It enables a single interface to represent different underlying forms (or types), facilitating flexibility and code reuse.\n",
        "\n",
        "**8.  How is encapsulation achieved in Python?**\n",
        "\n",
        "Ans. Encapsulation in Python is achieved by bundling data (attributes) and methods (functions) inside a class and controlling access to them. It is primarily implemented using access modifiers:\n",
        "\n",
        "1. Public Members:\n",
        "\n",
        "Attributes and methods that can be accessed directly from outside the class.\n",
        "\n",
        "Default access level in Python.\n",
        "\n",
        "2. Protected Members:\n",
        "\n",
        "Prefixed with a single underscore _.\n",
        "\n",
        "Indicate that the member is intended for internal use only (not strictly enforced).\n",
        "\n",
        "Still accessible but considered a convention for restricted use.\n",
        "\n",
        "3. Private Members:\n",
        "\n",
        "Prefixed with a double underscore __.\n",
        "\n",
        "Name mangling is used to make these members inaccessible directly from outside the class.\n",
        "\n",
        "Accessed indirectly using methods (getters/setters).\n",
        "\n",
        "**9. What is a constructor in Python?**\n",
        "\n",
        "Ans. A constructor in Python is a special method used to initialize an object when it is created. It is defined using the __init__ method in a class. The constructor sets up the initial state of an object by assigning values to its attributes or performing any necessary setup tasks.\n",
        "\n",
        "**10.  What are class and static methods in Python?**\n",
        "\n",
        "Ans. Class methods and static methods are types of methods that are bound to the class rather than the instance. They are used for different purposes and have distinct behaviors.\n",
        "\n",
        "1. Class Method:\n",
        "\n",
        "-Defined using the @classmethod decorator.\n",
        "\n",
        "-Takes a class as the first argument (cls), not an instance (self).\n",
        "\n",
        "-Can modify class-level attributes or call other class methods.\n",
        "\n",
        "-Can be called on the class itself or an instance.\n",
        "\n",
        "2. Static Method:\n",
        "\n",
        "-Defined using the @staticmethod decorator.\n",
        "\n",
        "-Does not take self or cls as its first argument.\n",
        "\n",
        "-It behaves like a regular function but belongs to the class namespace.\n",
        "\n",
        "-Typically used for utility functions that are related to the class but dont need access to instance or class attributes.\n",
        "\n",
        "**11.  What is method overloading in Python?**\n",
        "\n",
        "Ans. Method overloading in Python refers to defining multiple methods with the same name but different parameters within a class. However, Python does not natively support method overloading as languages like Java or C++ do. In Python, a method can only be defined once, but you can simulate method overloading by using default arguments or variable-length arguments.\n",
        "\n",
        "**12.  What is method overriding in OOP?**\n",
        "\n",
        "Ans. Method overriding in Object-Oriented Programming (OOP) occurs when a subclass provides a specific implementation of a method that is already defined in its superclass. The subclass method replaces the superclass method when called on an instance of the subclass.\n",
        "\n",
        "**13.  What is a property decorator in Python?**\n",
        "\n",
        "Ans. The property decorator in Python is used to define a method as a \"getter\" for an attribute, allowing you to access it like a regular attribute while still using a method for more complex behavior. This is a form of encapsulation, where you can control access to an attribute (e.g., validation, computation) without changing the syntax of attribute access.\n",
        "\n",
        "Key Points:\n",
        "\n",
        "Getter: The property decorator allows you to define a method that is accessed like an attribute.\n",
        "\n",
        "Setter: You can also define a setter method to update an attribute with custom behavior.\n",
        "\n",
        "Deleter: Optionally, you can define a method to delete an attribute.\n",
        "\n",
        "Syntax:\n",
        "\n",
        "@property to define a getter method.\n",
        "\n",
        "@<property_name>.setter to define a setter for the same property.\n",
        "\n",
        "@<property_name>.deleter to define a deleter.\n",
        "\n",
        "**14. Why is polymorphism important in OOP?**\n",
        "\n",
        "Ans. Polymorphism is important in OOP because it allows objects of different classes to be treated as instances of a common superclass, enabling flexibility and code reuse. It allows the same method or function to work with different types, making the code more scalable, maintainable, and easier to extend.\n",
        "\n",
        "In short, polymorphism helps in creating generic code that works with a variety of objects while maintaining specific behaviors for each type.\n",
        "\n",
        "**15. What is an abstract class in Python?**\n",
        "\n",
        "Ans. An abstract class in Python is a class that cannot be instantiated directly. It serves as a blueprint for other classes. Abstract classes are defined using the abc (Abstract Base Class) module, and they may contain abstract methods—methods that are declared but not implemented in the abstract class itself. Subclasses are required to implement these abstract methods.\n",
        "\n",
        "**16.  What are the advantages of OOP?**\n",
        "\n",
        "Ans. The advantages of Object-Oriented Programming (OOP) are:\n",
        "\n",
        "1. Modularity: Code is organized into objects (classes), making it easier to manage and update.\n",
        "\n",
        "2. Reusability: Once a class is created, it can be reused across different programs or projects, reducing redundancy.\n",
        "3. Scalability: OOP makes it easier to scale software systems as new classes can be added without modifying existing code.\n",
        "4. Maintainability: Code is easier to maintain and extend due to its modular structure, especially with inheritance and polymorphism.\n",
        "5. Encapsulation: Data and methods are bundled together, protecting data integrity by restricting direct access to it.\n",
        "6. Abstraction: Complexity is hidden by exposing only essential features of an object, making the system easier to understand and use.\n",
        "7. Flexibility and Extensibility: OOP supports polymorphism and inheritance, which allow for flexible and extensible systems that can evolve over time.\n",
        "8. Improved Collaboration: Different developers can work on different classes or objects independently, improving team productivity.\n",
        "\n",
        "**17. What is the difference between a class variable and an instance variable?**\n",
        "\n",
        "Ans. The difference between a class variable and an instance variable in Python is:\n",
        "\n",
        "1. Class Variable:\n",
        "\n",
        "-Defined inside the class but outside any methods.\n",
        "\n",
        "-Shared by all instances of the class. If it is modified, the change reflects across all instances.\n",
        "\n",
        "-Used for values that should be common to all objects of the class.\n",
        "\n",
        "2. Instance Variable:\n",
        "\n",
        "-Defined inside the __init__ method using self.\n",
        "\n",
        "-Each instance (object) of the class has its own copy of the instance variable.\n",
        "\n",
        "-Used for values that are specific to each object.\n",
        "\n",
        "**18. What is multiple inheritance in Python?**\n",
        "\n",
        "Ans. Multiple inheritance in Python is a feature where a class can inherit attributes and methods from more than one parent class. This allows a class to combine the functionality of multiple classes into a single subclass.\n",
        "\n",
        "**19. Explain the purpose of ‘’__str__’ and ‘__repr__’ ‘ methods in Python.**\n",
        "\n",
        "Ans. In Python, __str__ and __repr__ are special methods used to define how objects of a class are represented as strings. They serve different purposes:\n",
        "\n",
        "1. __str__ Method:\n",
        "\n",
        "-The __str__ method is used to define a human-readable string representation of an object. It is meant to provide a user-friendly description of the object when printed or converted to a string.\n",
        "\n",
        "-It is called by the built-in str() function and print() function.\n",
        "\n",
        "2. __repr__ Method:\n",
        "\n",
        "-The __repr__ method is used to define an official string representation of an object that is meant for debugging and development. It should ideally return a string that, when passed to the eval() function, creates an object with the same state.\n",
        "\n",
        "-It is called by the built-in repr() function and also when using interactive sessions (e.g., typing the object name in a Python shell).\n",
        "\n",
        "**20.  What is the significance of the ‘super()’ function in Python?**\n",
        "\n",
        "Ans. The super() function in Python is used to call methods from a parent class (also known as a superclass) within a subclass. It is most commonly used in method overriding to invoke the parent class's method, allowing you to extend or modify the behavior of inherited methods without completely replacing them.\n",
        "\n",
        "**21.  What is the significance of the __del__ method in Python?**\n",
        "\n",
        "Ans. The __del__ method in Python is a destructor method that is automatically called when an object is about to be destroyed or garbage collected. It allows you to define custom behavior that should occur when an object is deleted, such as releasing external resources like files, database connections, or network sockets.\n",
        "\n",
        "**22. What is the difference between @staticmethod and @classmethod in Python?**\n",
        "\n",
        "Ans. In Python, @staticmethod and @classmethod are both used to define methods that are not bound to an instance of a class. However, they differ in how they behave and how they are used.\n",
        "\n",
        "1. @staticmethod:\n",
        "\n",
        "A staticmethod is a method that does not access or modify the class or instance. It is independent of the class and instance.\n",
        "\n",
        "It behaves like a regular function, but it is associated with the class for organizational purposes.\n",
        "\n",
        "It doesn't take any special first argument (like self or cls).\n",
        "\n",
        "2. @classmethod:\n",
        "\n",
        "A classmethod is a method that is bound to the class and takes the class itself as its first argument (cls) instead of the instance (self).\n",
        "\n",
        "It can modify class-level attributes and is often used for factory methods or methods that need access to the class itself.\n",
        "\n",
        "**23.  How does polymorphism work in Python with inheritance?**\n",
        "\n",
        "Ans. Polymorphism in Python works with inheritance by allowing subclasses to define methods with the same name as those in the parent class, but with different implementations. This enables you to call the same method on objects of different classes, and each will behave according to its own class's method implementation.\n",
        "\n",
        "How it works:\n",
        "\n",
        "Method Overriding: A subclass can override a method of the parent class to provide a more specific implementation.\n",
        "\n",
        "Dynamic Dispatch: Python determines at runtime which method to call based on the type of the object, not the type of the reference.\n",
        "\n",
        "**24.  What is method chaining in Python OOP?**\n",
        "\n",
        "Ans. Method chaining in Python OOP is a technique where multiple methods are called on the same object in a single line, one after another. Each method in the chain returns the object itself (or another object that supports further method calls), allowing the next method in the chain to be called on the result of the previous one.\n",
        "\n",
        "**25. What is the purpose of the __call__ method in Python?**\n",
        "\n",
        "Ans. The __call__ method in Python allows an object to be called like a function. When you define the __call__ method in a class, you enable instances of that class to behave as callable objects. This means you can invoke an instance using parentheses (), just like a function, and pass arguments to it.\n",
        "\n",
        "\n",
        "\n"
      ],
      "metadata": {
        "id": "eabl0HDHI3W3"
      }
    },
    {
      "cell_type": "code",
      "source": [
        "#1. Create a parent class Animal with a method speak() that prints a generic message. Create a child class Dog  that overrides the speak() method to print \"Bark!\".\n",
        "\n",
        "#Parent class\n",
        "class Animal:\n",
        "    def speak(self):\n",
        "        print(\"Animal makes a sound\")\n",
        "\n",
        "#Child class\n",
        "class Dog(Animal):\n",
        "    def speak(self):\n",
        "        print(\"Bark!\")\n",
        "\n",
        "animal = Animal()\n",
        "animal.speak()\n",
        "\n",
        "dog = Dog()\n",
        "dog.speak()\n"
      ],
      "metadata": {
        "colab": {
          "base_uri": "https://localhost:8080/"
        },
        "id": "cFkYx4WIg8UN",
        "outputId": "4ebde880-c6b5-42d4-92c2-f221312de51a"
      },
      "execution_count": 1,
      "outputs": [
        {
          "output_type": "stream",
          "name": "stdout",
          "text": [
            "Animal makes a sound\n",
            "Bark!\n"
          ]
        }
      ]
    },
    {
      "cell_type": "code",
      "source": [
        "#2. Write a program to create an abstract class Shape with a method area(). Derive classes Circle and Rectangle  from it and implement the area() method in both.\n",
        "\n",
        "from abc import ABC, abstractmethod\n",
        "import math\n",
        "\n",
        "#Abstract class Shape\n",
        "class Shape(ABC):\n",
        "    @abstractmethod\n",
        "    def area(self):\n",
        "        pass\n",
        "\n",
        "#Derived class Circle\n",
        "class Circle(Shape):\n",
        "    def __init__(self, radius):\n",
        "        self.radius = radius\n",
        "\n",
        "    def area(self):\n",
        "        return math.pi * self.radius ** 2\n",
        "\n",
        "#Derived class Rectangle\n",
        "class Rectangle(Shape):\n",
        "    def __init__(self, width, height):\n",
        "        self.width = width\n",
        "        self.height = height\n",
        "\n",
        "    def area(self):\n",
        "        return self.width * self.height\n",
        "\n",
        "circle = Circle(5)\n",
        "print(f\"Area of Circle: {circle.area()}\")\n",
        "\n",
        "rectangle = Rectangle(4, 6)\n",
        "print(f\"Area of Rectangle: {rectangle.area()}\")\n"
      ],
      "metadata": {
        "colab": {
          "base_uri": "https://localhost:8080/"
        },
        "id": "gpNrpy5aJaSX",
        "outputId": "2e98cb1b-54d9-4669-f82c-7b26488bf84b"
      },
      "execution_count": 6,
      "outputs": [
        {
          "output_type": "stream",
          "name": "stdout",
          "text": [
            "Area of Circle: 78.53981633974483\n",
            "Area of Rectangle: 24\n"
          ]
        }
      ]
    },
    {
      "cell_type": "code",
      "source": [
        "#3. Implement a multi-level inheritance scenario where a class Vehicle has an attribute type. Derive a class Car and further derive a class ElectricCar that adds a battery attribute.\n",
        "\n",
        "#Base class Vehicle\n",
        "class Vehicle:\n",
        "    def __init__(self, type_of_vehicle):\n",
        "        self.type = type_of_vehicle\n",
        "\n",
        "    def display_type(self):\n",
        "        print(f\"This is a {self.type}\")\n",
        "\n",
        "#Derived class Car (inherits from Vehicle)\n",
        "class Car(Vehicle):\n",
        "    def __init__(self, type_of_vehicle, brand):\n",
        "        super().__init__(type_of_vehicle)  # Call the constructor of Vehicle\n",
        "        self.brand = brand\n",
        "\n",
        "    def display_brand(self):\n",
        "        print(f\"The brand of the car is {self.brand}\")\n",
        "\n",
        "#Derived class ElectricCar (inherits from Car)\n",
        "class ElectricCar(Car):\n",
        "    def __init__(self, type_of_vehicle, brand, battery_capacity):\n",
        "        super().__init__(type_of_vehicle, brand)  # Call the constructor of Car\n",
        "        self.battery_capacity = battery_capacity\n",
        "\n",
        "    def display_battery(self):\n",
        "        print(f\"The battery capacity of this electric car is {self.battery_capacity} kWh\")\n",
        "\n",
        "#Testing the classes\n",
        "vehicle = Vehicle(\"Vehicle\")\n",
        "vehicle.display_type()\n",
        "\n",
        "car = Car(\"Car\", \"Toyota\")\n",
        "car.display_type()\n",
        "car.display_brand()\n",
        "\n",
        "electric_car = ElectricCar(\"Electric Car\", \"Tesla\", 75)\n",
        "electric_car.display_type()\n",
        "electric_car.display_brand()\n",
        "electric_car.display_battery()\n"
      ],
      "metadata": {
        "colab": {
          "base_uri": "https://localhost:8080/"
        },
        "id": "Iap95hL2h3c9",
        "outputId": "5a4d5b8d-e078-49e2-83fa-5c6a7e7245c3"
      },
      "execution_count": 3,
      "outputs": [
        {
          "output_type": "stream",
          "name": "stdout",
          "text": [
            "This is a Vehicle\n",
            "This is a Car\n",
            "The brand of the car is Toyota\n",
            "This is a Electric Car\n",
            "The brand of the car is Tesla\n",
            "The battery capacity of this electric car is 75 kWh\n"
          ]
        }
      ]
    },
    {
      "cell_type": "code",
      "source": [
        "#4. Implement a multi-level inheritance scenario where a class Vehicle has an attribute type. Derive a class Car and further derive a class ElectricCar that adds a battery attribute.\n",
        "\n",
        "#Base class Vehicle\n",
        "class Vehicle:\n",
        "    def __init__(self, type_of_vehicle):\n",
        "        self.type = type_of_vehicle\n",
        "\n",
        "    def display_type(self):\n",
        "        print(f\"This is a {self.type}.\")\n",
        "\n",
        "#Derived class Car (inherits from Vehicle)\n",
        "class Car(Vehicle):\n",
        "    def __init__(self, type_of_vehicle, brand):\n",
        "        super().__init__(type_of_vehicle)  #Call the constructor of Vehicle\n",
        "        self.brand = brand\n",
        "\n",
        "    def display_brand(self):\n",
        "        print(f\"The brand of the car is {self.brand}.\")\n",
        "\n",
        "#Further derived class ElectricCar (inherits from Car)\n",
        "class ElectricCar(Car):\n",
        "    def __init__(self, type_of_vehicle, brand, battery_capacity):\n",
        "        super().__init__(type_of_vehicle, brand)  #Call the constructor of Car\n",
        "        self.battery_capacity = battery_capacity\n",
        "\n",
        "    def display_battery(self):\n",
        "        print(f\"The battery capacity of this electric car is {self.battery_capacity} kWh.\")\n",
        "\n",
        "#Testing the classes\n",
        "vehicle = Vehicle(\"Vehicle\")\n",
        "vehicle.display_type()\n",
        "\n",
        "car = Car(\"Car\", \"Toyota\")\n",
        "car.display_type()\n",
        "car.display_brand()\n",
        "\n",
        "electric_car = ElectricCar(\"Electric Car\", \"Tesla\", 75)\n",
        "electric_car.display_type()\n",
        "electric_car.display_brand()\n",
        "electric_car.display_battery()\n"
      ],
      "metadata": {
        "colab": {
          "base_uri": "https://localhost:8080/"
        },
        "id": "ytapgmERm-bM",
        "outputId": "cfe9a475-0eb8-4375-c547-5f0162f27c79"
      },
      "execution_count": 4,
      "outputs": [
        {
          "output_type": "stream",
          "name": "stdout",
          "text": [
            "This is a Vehicle.\n",
            "This is a Car.\n",
            "The brand of the car is Toyota.\n",
            "This is a Electric Car.\n",
            "The brand of the car is Tesla.\n",
            "The battery capacity of this electric car is 75 kWh.\n"
          ]
        }
      ]
    },
    {
      "cell_type": "code",
      "source": [
        "#5. Write a program to demonstrate encapsulation by creating a class BankAccount with private attributes balance and methods to deposit, withdraw, and check balance.\n",
        "\n",
        "class BankAccount:\n",
        "    def __init__(self, balance=0):\n",
        "        #Private attribute (by convention, leading underscore is used to indicate privacy)\n",
        "        self._balance = balance\n",
        "\n",
        "    #Method to deposit money\n",
        "    def deposit(self, amount):\n",
        "        if amount > 0:\n",
        "            self._balance += amount\n",
        "            print(f\"Deposited: ${amount}\")\n",
        "        else:\n",
        "            print(\"Deposit amount must be positive.\")\n",
        "\n",
        "    #Method to withdraw money\n",
        "    def withdraw(self, amount):\n",
        "        if amount > 0 and amount <= self._balance:\n",
        "            self._balance -= amount\n",
        "            print(f\"Withdrew: ${amount}\")\n",
        "        else:\n",
        "            print(\"Insufficient funds or invalid withdrawal amount.\")\n",
        "\n",
        "    #Method to check balance\n",
        "    def check_balance(self):\n",
        "        return f\"Current balance: ${self._balance}\"\n",
        "\n",
        "account = BankAccount() #Testing the BankAccount class\n",
        "\n",
        "account.deposit(500) #Deposit money\n",
        "\n",
        "print(account.check_balance())  #Check balance\n",
        "\n",
        "account.withdraw(200) #Withdraw money\n",
        "\n",
        "print(account.check_balance())  #Check balance\n",
        "\n",
        "account.withdraw(400)   #Attempt to withdraw more than balance\n"
      ],
      "metadata": {
        "colab": {
          "base_uri": "https://localhost:8080/"
        },
        "id": "gnDZfdkYnbmz",
        "outputId": "1c62b35b-9783-42fc-d091-b22fb7fcd07d"
      },
      "execution_count": 5,
      "outputs": [
        {
          "output_type": "stream",
          "name": "stdout",
          "text": [
            "Deposited: $500\n",
            "Current balance: $500\n",
            "Withdrew: $200\n",
            "Current balance: $300\n",
            "Insufficient funds or invalid withdrawal amount.\n"
          ]
        }
      ]
    },
    {
      "cell_type": "code",
      "source": [
        "#6. Demonstrate runtime polymorphism using a method play() in a base class Instrument. Derive classes Guitar and Piano that implement their own version of play().\n",
        "\n",
        "#Base class Instrument\n",
        "class Instrument:\n",
        "    def play(self):\n",
        "        print(\"Playing the instrument\")\n",
        "\n",
        "#Derived class Guitar\n",
        "class Guitar(Instrument):\n",
        "    def play(self):\n",
        "        print(\"Strumming the guitar\")\n",
        "\n",
        "#Derived class Piano\n",
        "class Piano(Instrument):\n",
        "    def play(self):\n",
        "        print(\"Playing the piano\")\n",
        "\n",
        "#Testing the runtime polymorphism\n",
        "def perform_play(instrument):\n",
        "    instrument.play()\n",
        "\n",
        "#Create instances of Guitar and Piano\n",
        "guitar = Guitar()\n",
        "piano = Piano()\n",
        "\n",
        "#Call perform_play() with different instrument objects\n",
        "perform_play(guitar)\n",
        "perform_play(piano)\n"
      ],
      "metadata": {
        "colab": {
          "base_uri": "https://localhost:8080/"
        },
        "id": "HdyVbWseoe0H",
        "outputId": "0cdfb3a9-1a12-4281-e4d3-74cec0453002"
      },
      "execution_count": 7,
      "outputs": [
        {
          "output_type": "stream",
          "name": "stdout",
          "text": [
            "Strumming the guitar\n",
            "Playing the piano\n"
          ]
        }
      ]
    },
    {
      "cell_type": "code",
      "source": [
        "#7.  Create a class MathOperations with a class method add_numbers() to add two numbers and a static method subtract_numbers() to subtract two numbers.\n",
        "\n",
        "class MathOperations:\n",
        "    @classmethod\n",
        "    def add_numbers(cls, num1, num2):\n",
        "        return num1 + num2\n",
        "\n",
        "    @staticmethod\n",
        "    def subtract_numbers(num1, num2):\n",
        "        return num1 - num2\n",
        "\n",
        "#Testing the methods\n",
        "sum_result = MathOperations.add_numbers(10, 5)\n",
        "print(f\"Sum: {sum_result}\")\n",
        "\n",
        "difference_result = MathOperations.subtract_numbers(10, 5)\n",
        "print(f\"Difference: {difference_result}\")\n"
      ],
      "metadata": {
        "colab": {
          "base_uri": "https://localhost:8080/"
        },
        "id": "Hqdsggqjoz5X",
        "outputId": "b27d9bea-9a7a-4a93-a3e1-bdbe8e345b37"
      },
      "execution_count": 8,
      "outputs": [
        {
          "output_type": "stream",
          "name": "stdout",
          "text": [
            "Sum: 15\n",
            "Difference: 5\n"
          ]
        }
      ]
    },
    {
      "cell_type": "code",
      "source": [
        "#8. Implement a class Person with a class method to count the total number of persons created.\n",
        "\n",
        "class Person:\n",
        "    #Class attribute to store the count of persons\n",
        "    total_persons = 0\n",
        "\n",
        "    def __init__(self, name, age):\n",
        "        self.name = name\n",
        "        self.age = age\n",
        "        #Increment the total_persons class attribute every time a new object is created\n",
        "        Person.total_persons += 1\n",
        "\n",
        "    @classmethod\n",
        "    def count_persons(cls):\n",
        "        return cls.total_persons\n",
        "\n",
        "#Testing the class and the count_persons method\n",
        "person1 = Person(\"Alice\", 30)\n",
        "person2 = Person(\"Bob\", 25)\n",
        "person3 = Person(\"Charlie\", 35)\n",
        "\n",
        "#Calling the class method to get the total count of persons\n",
        "print(f\"Total number of persons created: {Person.count_persons()}\")\n"
      ],
      "metadata": {
        "colab": {
          "base_uri": "https://localhost:8080/"
        },
        "id": "SVONTNSZpDiK",
        "outputId": "3601944b-6bfa-4b11-8442-0cc2cf597b16"
      },
      "execution_count": 9,
      "outputs": [
        {
          "output_type": "stream",
          "name": "stdout",
          "text": [
            "Total number of persons created: 3\n"
          ]
        }
      ]
    },
    {
      "cell_type": "code",
      "source": [
        "#9. Write a class Fraction with attributes numerator and denominator. Override the str method to display the fraction as \"numerator/denominator\".\n",
        "\n",
        "class Fraction:\n",
        "    def __init__(self, numerator, denominator):\n",
        "        self.numerator = numerator\n",
        "        self.denominator = denominator\n",
        "\n",
        "    #Overriding the __str__ method to display the fraction\n",
        "    def __str__(self):\n",
        "        return f\"{self.numerator}/{self.denominator}\"\n",
        "\n",
        "#Testing the Fraction class\n",
        "fraction1 = Fraction(3, 4)\n",
        "fraction2 = Fraction(5, 8)\n",
        "\n",
        "#Printing the fractions\n",
        "print(fraction1)\n",
        "print(fraction2)\n"
      ],
      "metadata": {
        "colab": {
          "base_uri": "https://localhost:8080/"
        },
        "id": "sVBcO3h3pgOL",
        "outputId": "9594a678-9e1d-429d-8124-a87ccbd10b51"
      },
      "execution_count": 10,
      "outputs": [
        {
          "output_type": "stream",
          "name": "stdout",
          "text": [
            "3/4\n",
            "5/8\n"
          ]
        }
      ]
    },
    {
      "cell_type": "code",
      "source": [
        "#10.  Demonstrate operator overloading by creating a class Vector and overriding the add method to add two vectors.\n",
        "\n",
        "class Vector:\n",
        "    def __init__(self, x, y):\n",
        "        self.x = x\n",
        "        self.y = y\n",
        "\n",
        "    #Overriding the __add__ method to add two vectors\n",
        "    def __add__(self, other):\n",
        "        if isinstance(other, Vector):\n",
        "            return Vector(self.x + other.x, self.y + other.y)\n",
        "        else:\n",
        "            raise ValueError(\"Can only add another Vector object.\")\n",
        "\n",
        "    #For easier display of Vector objects\n",
        "    def __str__(self):\n",
        "        return f\"({self.x}, {self.y})\"\n",
        "\n",
        "#Testing operator overloading\n",
        "vector1 = Vector(3, 4)\n",
        "vector2 = Vector(1, 2)\n",
        "\n",
        "#Adding two vectors using the + operator\n",
        "result = vector1 + vector2\n",
        "\n",
        "#Printing the result\n",
        "print(f\"Result of addition: {result}\")\n"
      ],
      "metadata": {
        "colab": {
          "base_uri": "https://localhost:8080/"
        },
        "id": "zkpZultNpxn3",
        "outputId": "1894d9be-ec36-4705-bf63-afa27e888767"
      },
      "execution_count": 11,
      "outputs": [
        {
          "output_type": "stream",
          "name": "stdout",
          "text": [
            "Result of addition: (4, 6)\n"
          ]
        }
      ]
    },
    {
      "cell_type": "code",
      "source": [
        "#11.  Create a class Person with attributes name and age. Add a method greet() that prints \"Hello, my name is {name} and I am {age} years old.\"\n",
        "\n",
        "class Person:\n",
        "    def __init__(self, name, age):\n",
        "        self.name = name\n",
        "        self.age = age\n",
        "\n",
        "    #Method to greet the person\n",
        "    def greet(self):\n",
        "        print(f\"Hello, my name is {self.name} and I am {self.age} years old.\")\n",
        "\n",
        "#Testing the Person class\n",
        "person1 = Person(\"Alice\", 30)\n",
        "person2 = Person(\"Bob\", 25)\n",
        "\n",
        "#Calling the greet method\n",
        "person1.greet()\n",
        "person2.greet()\n"
      ],
      "metadata": {
        "colab": {
          "base_uri": "https://localhost:8080/"
        },
        "id": "9hl6iMw7qEwz",
        "outputId": "4dfb0739-7759-49fc-c511-703a0a2ecae5"
      },
      "execution_count": 12,
      "outputs": [
        {
          "output_type": "stream",
          "name": "stdout",
          "text": [
            "Hello, my name is Alice and I am 30 years old.\n",
            "Hello, my name is Bob and I am 25 years old.\n"
          ]
        }
      ]
    },
    {
      "cell_type": "code",
      "source": [
        "#12. Implement a class Student with attributes name and grades. Create a method average_grade() to compute the average of the grades.\n",
        "\n",
        "class Student:\n",
        "    def __init__(self, name, grades):\n",
        "        self.name = name\n",
        "        self.grades = grades\n",
        "\n",
        "    #Method to compute the average grade\n",
        "    def average_grade(self):\n",
        "        if len(self.grades) > 0:\n",
        "            return sum(self.grades) / len(self.grades)\n",
        "        else:\n",
        "            return 0\n",
        "\n",
        "#Testing the Student class\n",
        "student1 = Student(\"Alice\", [85, 90, 78, 92])\n",
        "student2 = Student(\"Bob\", [70, 80, 88])\n",
        "\n",
        "#Calling the average_grade method\n",
        "print(f\"{student1.name}'s average grade: {student1.average_grade()}\")\n",
        "print(f\"{student2.name}'s average grade: {student2.average_grade()}\")\n"
      ],
      "metadata": {
        "colab": {
          "base_uri": "https://localhost:8080/"
        },
        "id": "pjhQSFuMqWaV",
        "outputId": "d0bc2a65-7e07-45df-b404-dbf8e5a6a406"
      },
      "execution_count": 13,
      "outputs": [
        {
          "output_type": "stream",
          "name": "stdout",
          "text": [
            "Alice's average grade: 86.25\n",
            "Bob's average grade: 79.33333333333333\n"
          ]
        }
      ]
    },
    {
      "cell_type": "code",
      "source": [
        "#13. Create a class Rectangle with methods set_dimensions() to set the dimensions and area() to calculate the area.\n",
        "\n",
        "class Rectangle:\n",
        "    def __init__(self):\n",
        "        self.length = 0\n",
        "        self.width = 0\n",
        "\n",
        "    #Method to set the dimensions of the rectangle\n",
        "    def set_dimensions(self, length, width):\n",
        "        self.length = length\n",
        "        self.width = width\n",
        "\n",
        "    #Method to calculate the area of the rectangle\n",
        "    def area(self):\n",
        "        return self.length * self.width\n",
        "\n",
        "#Testing the Rectangle class\n",
        "rect1 = Rectangle()\n",
        "rect1.set_dimensions(5, 3)\n",
        "\n",
        "#Calling the area method\n",
        "print(f\"Area of rectangle: {rect1.area()}\")\n"
      ],
      "metadata": {
        "colab": {
          "base_uri": "https://localhost:8080/"
        },
        "id": "f6jD7ipMqqd2",
        "outputId": "a7977a05-9802-4e95-f88a-cf383d84d253"
      },
      "execution_count": 14,
      "outputs": [
        {
          "output_type": "stream",
          "name": "stdout",
          "text": [
            "Area of rectangle: 15\n"
          ]
        }
      ]
    },
    {
      "cell_type": "code",
      "source": [
        "#14. Create a class Employee with a method calculate_salary() that computes the salary based on hours worked and hourly rate. Create a derived class Manager that adds a bonus to the salary.\n",
        "\n",
        "class Employee:\n",
        "    def __init__(self, name, hours_worked, hourly_rate):\n",
        "        self.name = name\n",
        "        self.hours_worked = hours_worked\n",
        "        self.hourly_rate = hourly_rate\n",
        "\n",
        "    #Method to calculate salary based on hours worked and hourly rate\n",
        "    def calculate_salary(self):\n",
        "        return self.hours_worked * self.hourly_rate\n",
        "\n",
        "class Manager(Employee):\n",
        "    def __init__(self, name, hours_worked, hourly_rate, bonus):\n",
        "        super().__init__(name, hours_worked, hourly_rate)  #Call the parent class constructor\n",
        "        self.bonus = bonus\n",
        "\n",
        "    #Override calculate_salary to include bonus\n",
        "    def calculate_salary(self):\n",
        "        base_salary = super().calculate_salary()  #Calculate base salary using the parent class method\n",
        "        return base_salary + self.bonus\n",
        "\n",
        "#Testing the Employee and Manager classes\n",
        "employee1 = Employee(\"Alice\", 40, 25)  #40 hours worked at $25/hour\n",
        "manager1 = Manager(\"Bob\", 40, 30, 1000)  #40 hours worked at $30/hour + $1000 bonus\n",
        "\n",
        "#Calculate and print salaries\n",
        "print(f\"{employee1.name}'s salary: ${employee1.calculate_salary()}\")\n",
        "print(f\"{manager1.name}'s salary: ${manager1.calculate_salary()}\")\n"
      ],
      "metadata": {
        "colab": {
          "base_uri": "https://localhost:8080/"
        },
        "id": "bSBwctSlq7RC",
        "outputId": "4220e224-e275-43d1-b999-330db34a886c"
      },
      "execution_count": 15,
      "outputs": [
        {
          "output_type": "stream",
          "name": "stdout",
          "text": [
            "Alice's salary: $1000\n",
            "Bob's salary: $2200\n"
          ]
        }
      ]
    },
    {
      "cell_type": "code",
      "source": [
        "#15. Create a class Product with attributes name, price, and quantity. Implement a method total_price() that calculates the total price of the product.\n",
        "\n",
        "class Product:\n",
        "    def __init__(self, name, price, quantity):\n",
        "        self.name = name\n",
        "        self.price = price\n",
        "        self.quantity = quantity\n",
        "\n",
        "    #Method to calculate the total price of the product\n",
        "    def total_price(self):\n",
        "        return self.price * self.quantity\n",
        "\n",
        "#Testing the Product class\n",
        "product1 = Product(\"Laptop\", 1000, 3)\n",
        "product2 = Product(\"Phone\", 700, 5)\n",
        "\n",
        "#Calculate and print the total price of each product\n",
        "print(f\"Total price of {product1.name}: ${product1.total_price()}\")\n",
        "print(f\"Total price of {product2.name}: ${product2.total_price()}\")\n"
      ],
      "metadata": {
        "colab": {
          "base_uri": "https://localhost:8080/"
        },
        "id": "v5idF3kKrak1",
        "outputId": "b0b6d68e-efb3-4edb-e257-3f3c1347cf6e"
      },
      "execution_count": 16,
      "outputs": [
        {
          "output_type": "stream",
          "name": "stdout",
          "text": [
            "Total price of Laptop: $3000\n",
            "Total price of Phone: $3500\n"
          ]
        }
      ]
    },
    {
      "cell_type": "code",
      "source": [
        "#16.  Create a class Animal with an abstract method sound(). Create two derived classes Cow and Sheep that implement the sound() method.\n",
        "\n",
        "from abc import ABC, abstractmethod\n",
        "\n",
        "#Abstract base class Animal\n",
        "class Animal(ABC):\n",
        "    @abstractmethod\n",
        "    def sound(self):\n",
        "        pass\n",
        "\n",
        "#Derived class Cow\n",
        "class Cow(Animal):\n",
        "    def sound(self):\n",
        "        print(\"Moo\")\n",
        "\n",
        "#Derived class Sheep\n",
        "class Sheep(Animal):\n",
        "    def sound(self):\n",
        "        print(\"Baa\")\n",
        "\n",
        "#Testing the classes\n",
        "cow = Cow()\n",
        "sheep = Sheep()\n",
        "\n",
        "#Calling the sound method\n",
        "cow.sound()\n",
        "sheep.sound()\n"
      ],
      "metadata": {
        "colab": {
          "base_uri": "https://localhost:8080/"
        },
        "id": "j7dFVxhzru3t",
        "outputId": "38061671-8212-4156-e137-f0fb1ac44741"
      },
      "execution_count": 17,
      "outputs": [
        {
          "output_type": "stream",
          "name": "stdout",
          "text": [
            "Moo\n",
            "Baa\n"
          ]
        }
      ]
    },
    {
      "cell_type": "code",
      "source": [
        "#17. Create a class Book with attributes title, author, and year_published. Add a method get_book_info() that returns a formatted string with the book's details.\n",
        "\n",
        "class Book:\n",
        "    def __init__(self, title, author, year_published):\n",
        "        self.title = title\n",
        "        self.author = author\n",
        "        self.year_published = year_published\n",
        "\n",
        "    #Method to return the formatted book details\n",
        "    def get_book_info(self):\n",
        "        return f\"Title: {self.title}, Author: {self.author}, Year Published: {self.year_published}\"\n",
        "\n",
        "#Testing the Book class\n",
        "book1 = Book(\"The Great Gatsby\", \"F. Scott Fitzgerald\", 1925)\n",
        "book2 = Book(\"1984\", \"George Orwell\", 1949)\n",
        "\n",
        "#Calling the get_book_info method\n",
        "print(book1.get_book_info())\n",
        "print(book2.get_book_info())\n"
      ],
      "metadata": {
        "colab": {
          "base_uri": "https://localhost:8080/"
        },
        "id": "XEphphg4sChF",
        "outputId": "84831af8-8a91-47b1-e982-d5d4a33a6f27"
      },
      "execution_count": 18,
      "outputs": [
        {
          "output_type": "stream",
          "name": "stdout",
          "text": [
            "Title: The Great Gatsby, Author: F. Scott Fitzgerald, Year Published: 1925\n",
            "Title: 1984, Author: George Orwell, Year Published: 1949\n"
          ]
        }
      ]
    },
    {
      "cell_type": "code",
      "source": [
        "#18. Create a class House with attributes address and price. Create a derived class Mansion that adds an attribute number_of_rooms.\n",
        "\n",
        "class House:\n",
        "    def __init__(self, address, price):\n",
        "        self.address = address\n",
        "        self.price = price\n",
        "\n",
        "    #Method to get house details\n",
        "    def get_house_info(self):\n",
        "        return f\"Address: {self.address}, Price: ${self.price}\"\n",
        "\n",
        "#Derived class Mansion\n",
        "class Mansion(House):\n",
        "    def __init__(self, address, price, number_of_rooms):\n",
        "        super().__init__(address, price)  # Call the parent class constructor\n",
        "        self.number_of_rooms = number_of_rooms\n",
        "\n",
        "    #Method to get mansion details including number of rooms\n",
        "    def get_mansion_info(self):\n",
        "        house_info = super().get_house_info()  # Get base house info\n",
        "        return f\"{house_info}, Number of Rooms: {self.number_of_rooms}\"\n",
        "\n",
        "#Testing the House and Mansion classes\n",
        "house = House(\"123 Main St\", 300000)\n",
        "mansion = Mansion(\"456 Luxury Ln\", 5000000, 12)\n",
        "\n",
        "#Calling the get_house_info and get_mansion_info methods\n",
        "print(house.get_house_info())\n",
        "print(mansion.get_mansion_info())\n"
      ],
      "metadata": {
        "colab": {
          "base_uri": "https://localhost:8080/"
        },
        "id": "1Hu4Rp8tsS37",
        "outputId": "d0aba668-5513-4f67-f16a-ea971fb9c8ae"
      },
      "execution_count": 19,
      "outputs": [
        {
          "output_type": "stream",
          "name": "stdout",
          "text": [
            "Address: 123 Main St, Price: $300000\n",
            "Address: 456 Luxury Ln, Price: $5000000, Number of Rooms: 12\n"
          ]
        }
      ]
    }
  ]
}