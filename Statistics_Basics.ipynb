{
  "nbformat": 4,
  "nbformat_minor": 0,
  "metadata": {
    "colab": {
      "provenance": []
    },
    "kernelspec": {
      "name": "python3",
      "display_name": "Python 3"
    },
    "language_info": {
      "name": "python"
    }
  },
  "cells": [
    {
      "cell_type": "code",
      "execution_count": null,
      "metadata": {
        "id": "f6CWY1IjvjzN"
      },
      "outputs": [],
      "source": []
    },
    {
      "cell_type": "markdown",
      "source": [
        "**Q1. Explain the different types of data (qualitative and quantitative) and provide examples of each. Discuss nominal, ordinal, interval, and ratio scales.**\n",
        "\n",
        "Ans. Qualitative Data: Describes categories or qualities. Examples: Colors (red, blue), Gender (male, female).\n",
        "Nominal: Categories with no order (e.g., eye color).\n",
        "Ordinal: Categories with a logical order (e.g., satisfaction levels: poor, average, excellent).\n",
        "Quantitative Data: Represents numerical values. Examples: Age, Weight.\n",
        "Interval: Numeric data without a true zero (e.g., temperature in Celsius).\n",
        "Ratio: Numeric data with a true zero (e.g., height, income).\n",
        "\n",
        "**Q2. What are the measures of central tendency, and when should you use each? Discuss the mean, median, and mode with examples and situations where each is appropriate.**\n",
        "\n",
        "Ans. Mean: The average of values. Use for numerical data without outliers (e.g., test scores).\n",
        "Example: Mean of [10, 20, 30] = 10+20+303=20\\frac{10+20+30}{3} = 20310+20+30​=20.\n",
        "Median: The middle value when data is sorted. Use for skewed data (e.g., house prices).\n",
        "Example: Median of [10, 20, 30] = 20.\n",
        "Mode: The most frequent value. Use for categorical data or multimodal distributions.\n",
        "Example: Mode of [10, 10, 20, 30] = 10.\n",
        "\n",
        "**Q3. Explain the concept of dispersion. How do variance and standard deviation measure the spread of data?**\n",
        "\n",
        "Ans. Dispersion measures how data points spread around the central value.\n",
        "Variance: The average squared difference from the mean. Higher variance indicates greater spread.\n",
        "Standard Deviation: The square root of variance, showing dispersion in the same units as the data.\n",
        "Example: For [10, 20, 30], variance = 66.67, standard deviation = 8.16.\n",
        "\n",
        "**Q4. What is a box plot, and what can it tell you about the distribution of data?**\n",
        "\n",
        "Ans. A box plot visually represents data distribution through five statistics: minimum, first quartile (Q1), median (Q2), third quartile (Q3), and maximum. It highlights the spread, skewness, and potential outliers in data.\n",
        "\n",
        "**Q5. Discuss the role of random sampling in making inferences about populations.**\n",
        "\n",
        "Ans. Random sampling ensures each member of a population has an equal chance of selection, reducing bias and ensuring that the sample represents the population. This enables accurate inferences, like estimating average income or predicting election results.\n",
        "\n",
        "**Q6. Explain the concept of skewness and its types. How does skewness affect the interpretation of data?**\n",
        "\n",
        "Ans. Skewness measures asymmetry in data distribution:\n",
        "Positive Skew: Tail on the right; mean > median (e.g., income distribution).\n",
        "Negative Skew: Tail on the left; mean < median (e.g., test scores).\n",
        "Skewness affects interpretation by indicating non-normality, influencing statistical tests and modeling.\n",
        "\n",
        "**Q7. What is the interquartile range (IQR), and how is it used to detect outliers?**\n",
        "\n",
        "Ans. The IQR is the range between the first (Q1) and third (Q3) quartiles. It measures the spread of the middle 50% of data. Outliers are detected using:\n",
        "Lower Bound=Q1−1.5×IQR\\text{Lower Bound} = Q1 - 1.5 \\times \\text{IQR}Lower Bound=Q1−1.5×IQR\n",
        "Upper Bound=Q3+1.5×IQR\\text{Upper Bound} = Q3 + 1.5 \\times \\text{IQR}Upper Bound=Q3+1.5×IQR\n",
        "Values outside these bounds are outliers.\n",
        "\n",
        "**Q8. Discuss the conditions under which the binomial distribution is used.**\n",
        "\n",
        "Ans. The binomial distribution applies when:\n",
        "There are a fixed number of trials.\n",
        "Each trial has only two outcomes (success/failure).\n",
        "Trials are independent.\n",
        "The probability of success remains constant.\n",
        "Example: Flipping a coin 10 times to count heads.\n",
        "\n",
        "**Q9. Explain the properties of the normal distribution and the empirical rule (68-95-99.7 rule).**\n",
        "\n",
        "Ans. The normal distribution is symmetric and bell-shaped, with the mean, median, and mode equal.\n",
        "\n",
        "Empirical Rule:\n",
        "\n",
        "68% of data lies within 1 standard deviation (σ) of the mean.\n",
        "\n",
        "95% within 2σ.\n",
        "\n",
        "99.7% within 3σ.\n",
        "\n",
        "It helps estimate probabilities and detect anomalies.\n",
        "\n",
        "**Q10. Provide a real-life example of a Poisson process and calculate the probability for a specific event.**\n",
        "\n",
        "Ans. Example: Calls to a helpline average 5 per hour. What’s the probability of receiving 3 calls in an hour?\n",
        "\n",
        "Poisson probability:\n",
        "\n",
        "P(X=k)=λke−λk!P(X = k) = \\frac{\\lambda^k e^{-\\lambda}}{k!}P(X=k)=k!λke−λ​\n",
        "\n",
        "P(X=3)=53e−53!=0.1404P(X = 3) = \\frac{5^3 e^{-5}}{3!} = 0.1404P(X=3)=3!53e−5​=0.1404\n",
        "\n",
        "**Q11. Explain what a random variable is and differentiate between discrete and continuous random variables.**\n",
        "\n",
        "Ans. A random variable assigns numerical outcomes to random events.\n",
        "Discrete: Takes countable values (e.g., number of heads in coin tosses).\n",
        "Continuous: Takes any value in a range (e.g., weight, height).\n",
        "\n",
        "**Q12. Provide an example dataset, calculate both covariance and correlation, and interpret the results.**\n",
        "\n",
        "Ans. code in the code cell\n",
        "\n",
        "Covariance: Measures joint variability. Positive means X and Y increase together.\n",
        "\n",
        "Correlation: Scaled measure (−1,1-1, 1−1,1), indicating strength/direction. A correlation of 1 indicates a perfect positive linear relationship.\n",
        "\n",
        "  \n"
      ],
      "metadata": {
        "id": "-m3lzvQ5voRx"
      }
    },
    {
      "cell_type": "code",
      "source": [
        "\n",
        "import numpy as np\n",
        "import pandas as pd\n",
        "\n",
        "# Dataset\n",
        "data = {'X': [1, 2, 3, 4], 'Y': [2, 4, 6, 8]}\n",
        "df = pd.DataFrame(data)\n",
        "\n",
        "# Covariance\n",
        "covariance = df['X'].cov(df['Y'])\n",
        "\n",
        "# Correlation\n",
        "correlation = df['X'].corr(df['Y'])\n",
        "\n",
        "print(\"Covariance:\", covariance)\n",
        "print(\"Correlation:\", correlation)\n"
      ],
      "metadata": {
        "colab": {
          "base_uri": "https://localhost:8080/"
        },
        "id": "2N574DOCwkTB",
        "outputId": "2cc8d014-6dc4-446a-e850-905d4f82d57f"
      },
      "execution_count": 1,
      "outputs": [
        {
          "output_type": "stream",
          "name": "stdout",
          "text": [
            "Covariance: 3.333333333333333\n",
            "Correlation: 1.0\n"
          ]
        }
      ]
    }
  ]
}