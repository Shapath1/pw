{
  "nbformat": 4,
  "nbformat_minor": 0,
  "metadata": {
    "colab": {
      "provenance": []
    },
    "kernelspec": {
      "name": "python3",
      "display_name": "Python 3"
    },
    "language_info": {
      "name": "python"
    }
  },
  "cells": [
    {
      "cell_type": "markdown",
      "source": [
        "**1.  What is the difference between interpreted and compiled languages?**\n",
        "\n",
        "Ans. Interpreted languages execute code line-by-line at runtime (e.g., Python, JavaScript).\n",
        "\n",
        "Compiled languages translate code into machine language before execution (e.g., C, Java).\n",
        "\n",
        "Example:\n",
        "\n",
        "Python is interpreted.\n",
        "\n",
        "C++ is compiled.\n",
        "\n",
        "**2. What is exception handling in Python?**\n",
        "\n",
        "Ans. Exception handling in Python is a way to handle runtime errors gracefully using try, except, else, and finally blocks.\n",
        "\n",
        "Example:\n",
        "\n",
        "try:\n",
        "    num = int(\"abc\")\n",
        "except ValueError:\n",
        "    print(\"Invalid input!\")\n",
        "\n",
        "Output: Invalid input!\n",
        "\n",
        "**3.  What is the purpose of the finally block in exception handling?**\n",
        "\n",
        "Ans. The finally block ensures code runs no matter what, whether an exception occurs or not. It's often used for cleanup tasks like closing files or releasing resources.\n",
        "\n",
        "**4. What is logging in Python?**\n",
        "\n",
        "Ans. Logging in Python is a way to track events in a program, often for debugging or monitoring. The logging module provides tools to record messages at different severity levels (e.g., DEBUG, INFO, WARNING, ERROR, CRITICAL).\n",
        "\n",
        "**5. What is the significance of the __del__ method in Python?**\n",
        "\n",
        "Ans. The __del__ method is a destructor in Python. It is called when an object is about to be destroyed, allowing cleanup actions like releasing resources.\n",
        "\n",
        "**6. What is the difference between import and from ... import in Python?**\n",
        "\n",
        "Ans. import: Brings in the entire module. Access functions with module.function.\n",
        "\n",
        "from ... import: Imports specific functions or variables directly.\n",
        "\n",
        "**7. How can you handle multiple exceptions in Python?**\n",
        "\n",
        "Ans. Separate except blocks:\n",
        "\n",
        "try:\n",
        "    x = int(\"abc\")\n",
        "except ValueError:\n",
        "    print(\"Value error!\")\n",
        "except TypeError:\n",
        "    print(\"Type error!\")\n",
        "\n",
        "Single except block with a tuple:\n",
        "\n",
        "try:\n",
        "    x = int(\"abc\")\n",
        "except (ValueError, TypeError):\n",
        "    print(\"Error occurred!\")\n",
        "\n",
        "**8. What is the purpose of the with statement when handling files in Python?**\n",
        "\n",
        "Ans. The with statement simplifies file handling by automatically closing the file after the block, even if an exception occurs.\n",
        "\n",
        "Example:\n",
        "\n",
        "with open(\"file.txt\", \"r\") as file:\n",
        "    data = file.read()\n",
        "# No need to call file.close()\n",
        "\n",
        "Purpose: Ensures proper resource management and avoids memory leaks.\n",
        "\n",
        "**9. What is the difference between multithreading and multiprocessing?**\n",
        "\n",
        "Ans. Multithreading: Runs multiple threads within the same process, sharing memory. Best for I/O-bound tasks.\n",
        "Example: Reading files or handling web requests.\n",
        "\n",
        "Multiprocessing: Runs multiple processes, each with its own memory space. Best for CPU-bound tasks.\n",
        "Example: Performing heavy computations like matrix operations.\n",
        "\n",
        "Key Difference: Threads share memory; processes don’t.\n",
        "\n",
        "**10. What are the advantages of using logging in a program?**\n",
        "\n",
        "Ans. Advantages of using logging in a program:\n",
        "\n",
        "Error tracking: Helps track errors and exceptions in production environments.\n",
        "\n",
        "Debugging: Provides detailed logs for debugging purposes.\n",
        "\n",
        "Persistence: Logs can be saved to files, allowing you to keep a history of events.\n",
        "\n",
        "Severity levels: Allows categorization of log messages (e.g., DEBUG, INFO, ERROR).\n",
        "\n",
        "Monitoring: Enables real-time monitoring of application behavior.\n",
        "\n",
        "**11. What is memory management in Python?**\n",
        "\n",
        "Ans. Memory management in Python refers to how the interpreter allocates, uses, and reclaims memory. Python uses:\n",
        "\n",
        "Automatic Garbage Collection: The garbage collector frees memory by removing objects no longer in use.\n",
        "\n",
        "Reference Counting: Keeps track of how many references point to an object. When no references remain, the memory is released.\n",
        "\n",
        "Memory Pools: Python uses an internal system (like the allocator) to manage small objects more efficiently.\n",
        "\n",
        "This approach reduces memory leaks and optimizes memory usage.\n",
        "\n",
        "**12. What are the basic steps involved in exception handling in Python?**\n",
        "\n",
        "Ans. The basic steps in exception handling in Python are:\n",
        "\n",
        "Try Block: Write the code that might raise an exception inside a try block.\n",
        "\n",
        "Example:\n",
        "\n",
        "try:\n",
        "    # risky code\n",
        "\n",
        "Except Block: Catch specific exceptions using an except block to handle them.\n",
        "\n",
        "Example:\n",
        "\n",
        "except SomeError:\n",
        "    # handle exception\n",
        "\n",
        "Else Block (Optional): Code that runs if no exception occurs.\n",
        "\n",
        "Example:\n",
        "\n",
        "else:\n",
        "    # no exception\n",
        "\n",
        "Finally Block (Optional): Code that runs regardless of exceptions, often for cleanup.\n",
        "\n",
        "Exmple:\n",
        "\n",
        "finally:\n",
        "    # cleanup code\n",
        "\n",
        "\n",
        "**13. Why is memory management important in Python?**\n",
        "\n",
        "Ans. Memory management is crucial in Python because:\n",
        "\n",
        "Efficiency: Proper memory management ensures that memory is used optimally, preventing leaks or excessive memory consumption.\n",
        "\n",
        "Performance: Efficient memory use improves the performance of applications, especially when dealing with large datasets or complex computations.\n",
        "\n",
        "Stability: Helps prevent crashes or slowdowns due to out-of-memory errors, ensuring the application runs smoothly.\n",
        "\n",
        "Resource Conservation: Reduces the overhead of manual memory allocation and deallocation, making the development process easier and more reliable.\n",
        "\n",
        "**14. What is the role of try and except in exception handling?**\n",
        "\n",
        "Ans. The try and except blocks are used for handling exceptions:\n",
        "\n",
        "try block: Contains code that may raise an exception. If no error occurs, the code in the except block is skipped.\n",
        "\n",
        "Example:\n",
        "\n",
        "try:\n",
        "    result = 10 / 2\n",
        "\n",
        "except block: Catches and handles exceptions that occur in the try block. It lets you manage the error without crashing the program.\n",
        "\n",
        "Example:\n",
        "\n",
        "except ZeroDivisionError:\n",
        "    print(\"Cannot divide by zero!\")\n",
        "\n",
        "**15. How does Python's garbage collection system work?**\n",
        "\n",
        "Ans.Python's garbage collection system works by automatically managing memory. It primarily uses:\n",
        "\n",
        "Reference Counting: Every object has a reference count. When an object’s reference count drops to zero (no references to the object), it is immediately deallocated.\n",
        "\n",
        "Garbage Collector (GC): In addition to reference counting, Python uses a cyclic garbage collector to detect and clean up circular references (objects referencing each other). The GC runs periodically to identify and free memory occupied by unreachable objects.\n",
        "\n",
        "This combination helps Python manage memory automatically and efficiently.\n",
        "\n",
        "**16. What is the purpose of the else block in exception handling?**\n",
        "\n",
        "Ans. The else block in exception handling is executed if no exceptions occur in the try block. It allows you to write code that should run only when everything in the try block executes without errors.\n",
        "\n",
        "Example:\n",
        "\n",
        "try:\n",
        "    num = int(\"10\")\n",
        "except ValueError:\n",
        "    print(\"Invalid input!\")\n",
        "else:\n",
        "    print(\"Conversion successful:\", num)\n",
        "\n",
        "Output:\n",
        "\n",
        "Conversion successful: 10\n",
        "\n",
        "The else block is optional and helps separate normal logic from error handling.\n",
        "\n",
        "**17. What are the common logging levels in Python?**\n",
        "\n",
        "Ans. The common logging levels in Python, listed from lowest to highest severity, are:\n",
        "\n",
        "DEBUG: Detailed information for diagnosing problems (e.g., variable values, flow details).\n",
        "\n",
        "INFO: General information about program progress or status.\n",
        "\n",
        "WARNING: Indicates a potential problem or something unexpected, but the program can continue.\n",
        "\n",
        "ERROR: Indicates a serious problem, usually affecting the program's functionality.\n",
        "\n",
        "CRITICAL: Very severe errors, often leading to program termination.\n",
        "Each level helps categorize the importance of log messages.\n",
        "\n",
        "**18. What is the difference between os.fork() and multiprocessing in Python?**\n",
        "\n",
        "Ans. The difference between os.fork() and multiprocessing in Python is:\n",
        "\n",
        "os.fork():\n",
        "\n",
        "Creates a new process by duplicating the current process.\n",
        "It’s available on Unix-like systems (Linux/macOS) and not on Windows.\n",
        "The child process shares the same memory space as the parent unless changes are made after forking.\n",
        "\n",
        "multiprocessing module:\n",
        "\n",
        "Provides a higher-level API for creating separate processes, with independent memory spaces.\n",
        "Works across platforms, including Windows and Unix.\n",
        "Allows better control over processes, including communication between them.\n",
        "\n",
        "**19. What is the importance of closing a file in Python?**\n",
        "\n",
        "Ans. Closing a file in Python is important because:\n",
        "\n",
        "Resource Release: It frees up system resources, such as file handles, which are limited. Failing to close a file may lead to resource leaks.\n",
        "Data Integrity: Ensures any buffered data is written to the file and not lost.\n",
        "\n",
        "Prevents Errors: Allows the program to open the file again without issues. Keeping a file open unnecessarily can prevent other parts of the program from accessing it.\n",
        "\n",
        "It's recommended to use the with statement, which automatically closes the file once operations are complete.\n",
        "\n",
        "**20. What is the difference between file.read() and file.readline() in Python?**\n",
        "\n",
        "Ans. file.read(): Reads the entire content of the file as a single string.\n",
        "\n",
        "file.readline(): Reads the next line from the file each time it's called. It returns the line including the newline character \\n.\n",
        "\n",
        "Key Difference:\n",
        "\n",
        "read() reads the whole file at once.\n",
        "\n",
        "readline() reads the file one line at a time.\n",
        "\n",
        "**21. What is the logging module in Python used for?**\n",
        "\n",
        "Ans.The logging module in Python is used for tracking events, errors, and other information during the execution of a program. It provides a flexible framework for:\n",
        "\n",
        "Logging Messages: Allows recording messages at different levels (e.g., DEBUG, INFO, WARNING, ERROR, CRITICAL).\n",
        "\n",
        "Debugging and Monitoring: Helps track program flow, errors, and status in development and production.\n",
        "\n",
        "Configurable Output: Logs can be directed to different outputs, such as the console, files, or remote servers.\n",
        "\n",
        "Persistence: Logs can be saved for later review, aiding in debugging or auditing.\n",
        "\n",
        "**22. What is the os module in Python used for in file handling?**\n",
        "\n",
        "Ans. The os module in Python is used for interacting with the operating system, particularly for file and directory manipulation. Common tasks include:\n",
        "\n",
        "File and Directory Operations:\n",
        "\n",
        "os.remove(): Deletes a file.\n",
        "\n",
        "os.rename(): Renames a file.\n",
        "\n",
        "os.mkdir(): Creates a directory.\n",
        "\n",
        "os.rmdir(): Removes a directory.\n",
        "\n",
        "Path Operations:\n",
        "\n",
        "os.path.exists(): Checks if a file or directory exists.\n",
        "\n",
        "os.path.join(): Combines paths in a system-independent way.\n",
        "\n",
        "Environment and Process Management:\n",
        "\n",
        "os.environ: Access environment variables.\n",
        "\n",
        "os.fork(): Creates a child process (Unix-based systems).\n",
        "\n",
        "**23. What are the challenges associated with memory management in Python?**\n",
        "\n",
        "Ans. Challenges associated with memory management in Python include:\n",
        "\n",
        "Reference Cycles:\n",
        "Python's reference counting system struggles with circular references (objects referring to each other), which can lead to memory leaks if not properly handled by the garbage collector.\n",
        "\n",
        "Garbage Collection Overhead:\n",
        "While automatic garbage collection helps manage memory, it introduces overhead, potentially slowing down the program, especially for large applications with frequent object creation and deletion.\n",
        "\n",
        "Memory Fragmentation:\n",
        "Python's memory allocation for objects can lead to fragmentation, where small gaps of unused memory are scattered, reducing memory efficiency.\n",
        "\n",
        "Limited Control:\n",
        "Python's garbage collector abstracts memory management, leaving little room for developers to fine-tune memory usage, which may be crucial for performance-sensitive applications.\n",
        "\n",
        "Large Object Handling:\n",
        "Handling large datasets or objects in memory (like big arrays) can lead to performance issues, as Python's memory model isn't as efficient as languages that allow manual memory management.\n",
        "\n",
        "**24. How do you raise an exception manually in Python?**\n",
        "\n",
        "Ans. You can raise an exception manually in Python using the raise keyword. This is useful when you want to signal an error in your program under certain conditions.\n",
        "\n",
        "**25. Why is it important to use multithreading in certain applications?**\n",
        "\n",
        "Ans. Using multithreading in certain applications is important because:\n",
        "\n",
        "Improved Responsiveness: It allows programs to remain responsive while performing background tasks, like handling multiple user requests or downloading data without freezing the UI.\n",
        "\n",
        "Better Resource Utilization: Multithreading can make better use of CPU resources, especially in I/O-bound applications where tasks like file reading/writing or network operations can run concurrently.\n",
        "\n",
        "Concurrency: It enables concurrent execution of tasks that can be broken down into independent threads, speeding up certain types of applications (e.g., web servers or real-time data processing).\n",
        "\n",
        "Parallelism (in some cases): While Python's Global Interpreter Lock (GIL) limits true parallelism in CPU-bound tasks, threads can still run in parallel for I/O-bound tasks or with external libraries that release the GIL (e.g., NumPy)."
      ],
      "metadata": {
        "id": "igKPFmIbDGza"
      }
    },
    {
      "cell_type": "code",
      "source": [
        "#1. How can you open a file for writing in Python and write a string to it\n",
        "\n",
        "with open(\"example.txt\", \"w\") as file:\n",
        "    file.write(\"Hello, this is a test string.\")"
      ],
      "metadata": {
        "id": "rZKaIOySNDl2"
      },
      "execution_count": 11,
      "outputs": []
    },
    {
      "cell_type": "code",
      "source": [
        "#2. Write a Python program to read the contents of a file and print each line\n",
        "\n",
        "try:\n",
        "    with open(\"example.txt\", \"r\") as file:\n",
        "        for line in file:\n",
        "            print(line.strip())  #Remove extra newline characters\n",
        "except FileNotFoundError:\n",
        "    print(\"Error: The file does not exist.\")"
      ],
      "metadata": {
        "colab": {
          "base_uri": "https://localhost:8080/"
        },
        "id": "7my2W2__NDwK",
        "outputId": "c761a95a-3a94-4b5d-9f9e-98013d795c2a"
      },
      "execution_count": 14,
      "outputs": [
        {
          "output_type": "stream",
          "name": "stdout",
          "text": [
            "Hello, this is a test string.\n"
          ]
        }
      ]
    },
    {
      "cell_type": "code",
      "source": [
        "#3. How would you handle a case where the file doesn't exist while trying to open it for reading?\n",
        "\n",
        "try:\n",
        "    with open(\"exampl.txt\", \"r\") as file:\n",
        "        content = file.read()\n",
        "        print(content)\n",
        "except FileNotFoundError:\n",
        "    print(\"Error: The file does not exist.\")"
      ],
      "metadata": {
        "colab": {
          "base_uri": "https://localhost:8080/"
        },
        "id": "zu_jKv_XND64",
        "outputId": "99cddc07-01d1-45e3-d7e8-cf400433998a"
      },
      "execution_count": 16,
      "outputs": [
        {
          "output_type": "stream",
          "name": "stdout",
          "text": [
            "Hello, this is a test string.\n"
          ]
        }
      ]
    },
    {
      "cell_type": "code",
      "source": [
        "#4. Write a Python script that reads from one file and writes its content to another file.\n",
        "\n",
        "try:\n",
        "    with open(\"source.txt\", \"r\") as source_file:\n",
        "        content = source_file.read()  #Read the entire content from source file\n",
        "\n",
        "    with open(\"destination.txt\", \"w\") as destination_file:\n",
        "        destination_file.write(content)  #Write content to the destination file\n",
        "    print(\"Content copied successfully!\")\n",
        "\n",
        "except FileNotFoundError:\n",
        "    print(\"Error: One of the files does not exist.\")"
      ],
      "metadata": {
        "colab": {
          "base_uri": "https://localhost:8080/"
        },
        "id": "wq9H2GqyNEE9",
        "outputId": "9a94a3a2-abb5-4d6e-8d34-cb2349d2a8bd"
      },
      "execution_count": 17,
      "outputs": [
        {
          "output_type": "stream",
          "name": "stdout",
          "text": [
            "Error: One of the files does not exist.\n"
          ]
        }
      ]
    },
    {
      "cell_type": "code",
      "source": [
        "#5. How would you catch and handle division by zero error in Python?\n",
        "\n",
        "try:\n",
        "    numerator = 10\n",
        "    denominator = 0\n",
        "    result = numerator / denominator\n",
        "except ZeroDivisionError:\n",
        "    print(\"Error: Cannot divide by zero!\")\n",
        "else:\n",
        "    print(\"Result:\", result)"
      ],
      "metadata": {
        "colab": {
          "base_uri": "https://localhost:8080/"
        },
        "id": "8WecCiykNENw",
        "outputId": "1c0a0840-bf05-4eb5-8d7c-36110e92171b"
      },
      "execution_count": 18,
      "outputs": [
        {
          "output_type": "stream",
          "name": "stdout",
          "text": [
            "Error: Cannot divide by zero!\n"
          ]
        }
      ]
    },
    {
      "cell_type": "code",
      "source": [
        "#6. Write a Python program that logs an error message to a log file when a division by zero exception occurs.\n",
        "\n",
        "import logging\n",
        "\n",
        "#Set up logging configuration\n",
        "logging.basicConfig(filename='error_log.txt', level=logging.ERROR, format='%(asctime)s - %(levelname)s - %(message)s')\n",
        "\n",
        "try:\n",
        "    numerator = 10\n",
        "    denominator = 0\n",
        "    result = numerator / denominator\n",
        "except ZeroDivisionError as e:\n",
        "    #Log the error message to the log file\n",
        "    logging.error(\"Division by zero error: %s\", e)"
      ],
      "metadata": {
        "colab": {
          "base_uri": "https://localhost:8080/"
        },
        "id": "oksw_y4VNEWu",
        "outputId": "c81206f9-67cd-4c0c-a4b6-17ac3c35f37f"
      },
      "execution_count": 19,
      "outputs": [
        {
          "output_type": "stream",
          "name": "stderr",
          "text": [
            "ERROR:root:Division by zero error: division by zero\n"
          ]
        }
      ]
    },
    {
      "cell_type": "code",
      "source": [
        "#7.How do you log information at different levels (INFO, ERROR, WARNING) in Python using the logging module?\n",
        "\n",
        "import logging\n",
        "\n",
        "#Set up logging configuration\n",
        "logging.basicConfig(filename='app_log.txt', level=logging.DEBUG, format='%(asctime)s - %(levelname)s - %(message)s')\n",
        "\n",
        "#Logging messages at different levels\n",
        "logging.debug(\"This is a debug message.\")  #Detailed information, useful for debugging.\n",
        "logging.info(\"This is an info message.\")   #General information about program operation.\n",
        "logging.warning(\"This is a warning message.\")  #Indicates a potential issue.\n",
        "logging.error(\"This is an error message.\")  #Indicates a problem that caused the program to fail.\n",
        "logging.critical(\"This is a critical message.\")  #Severe error that may cause the program to stop."
      ],
      "metadata": {
        "colab": {
          "base_uri": "https://localhost:8080/"
        },
        "id": "saoceToZNEfh",
        "outputId": "81a6fae3-cd9b-43a5-b6c0-a4509360363a"
      },
      "execution_count": 20,
      "outputs": [
        {
          "output_type": "stream",
          "name": "stderr",
          "text": [
            "WARNING:root:This is a warning message.\n",
            "ERROR:root:This is an error message.\n",
            "CRITICAL:root:This is a critical message.\n"
          ]
        }
      ]
    },
    {
      "cell_type": "code",
      "source": [
        "#8. Write a program to handle a file opening error using exception handling.\n",
        "\n",
        "try:\n",
        "    #Attempt to open the file\n",
        "    with open(\"non_existent_file.txt\", \"r\") as file:\n",
        "        content = file.read()\n",
        "        print(content)\n",
        "except FileNotFoundError:\n",
        "    print(\"Error: The file does not exist.\")\n",
        "except PermissionError:\n",
        "    print(\"Error: You do not have permission to open the file.\")\n",
        "except Exception as e:\n",
        "    print(f\"An unexpected error occurred: {e}\")"
      ],
      "metadata": {
        "colab": {
          "base_uri": "https://localhost:8080/"
        },
        "id": "5cXws9bpNEo3",
        "outputId": "dc6dcd76-c057-4078-85d0-ff3284ad51f4"
      },
      "execution_count": 21,
      "outputs": [
        {
          "output_type": "stream",
          "name": "stdout",
          "text": [
            "Error: The file does not exist.\n"
          ]
        }
      ]
    },
    {
      "cell_type": "code",
      "source": [
        "#9. How can you read a file line by line and store its content in a list in Python?\n",
        "\n",
        "lines = []\n",
        "with open(\"example.txt\", \"r\") as file:\n",
        "    for line in file:\n",
        "        lines.append(line.strip())  #strip() removes newline characters\n",
        "\n",
        "print(lines)"
      ],
      "metadata": {
        "colab": {
          "base_uri": "https://localhost:8080/"
        },
        "id": "vRlOxCW7NEyD",
        "outputId": "20aa201d-d7e4-47ac-db17-58e46bc1b539"
      },
      "execution_count": 23,
      "outputs": [
        {
          "output_type": "stream",
          "name": "stdout",
          "text": [
            "['Hello, this is a test string.']\n"
          ]
        }
      ]
    },
    {
      "cell_type": "code",
      "source": [
        "#10.How can you append data to an existing file in Python?\n",
        "\n",
        "with open(\"example.txt\", \"a\") as file:\n",
        "    file.write(\"This is an appended line.\\n\")  #Add new data at the end of the file"
      ],
      "metadata": {
        "id": "ntWS2MWvNE7B"
      },
      "execution_count": 24,
      "outputs": []
    },
    {
      "cell_type": "code",
      "source": [
        "#11. Write a Python program that uses a try-except block to handle an error when attempting to access a dictionary key that doesn't exist.\n",
        "\n",
        "my_dict = {\"name\": \"John\", \"age\": 30, \"city\": \"New York\"}\n",
        "\n",
        "#Try to access a non-existent key\n",
        "try:\n",
        "    value = my_dict[\"address\"]  #his key doesn't exist\n",
        "except KeyError:\n",
        "    print(\"Error: The key does not exist in the dictionary.\")\n"
      ],
      "metadata": {
        "colab": {
          "base_uri": "https://localhost:8080/"
        },
        "id": "U8BC5RLQNFEw",
        "outputId": "60a33627-41a8-4e48-8088-07509d629258"
      },
      "execution_count": 25,
      "outputs": [
        {
          "output_type": "stream",
          "name": "stdout",
          "text": [
            "Error: The key does not exist in the dictionary.\n"
          ]
        }
      ]
    },
    {
      "cell_type": "code",
      "source": [
        "#12. Write a program that demonstrates using multiple except blocks to handle different types of exceptions.\n",
        "\n",
        "def demo_exceptions():\n",
        "    try:\n",
        "        #Simulate different types of exceptions\n",
        "        choice = int(input(\"Enter a number to trigger an exception (1 for ZeroDivisionError, 2 for ValueError, 3 for KeyError): \"))\n",
        "\n",
        "        if choice == 1:\n",
        "            #ZeroDivisionError\n",
        "            result = 10 / 0  #This will cause a division by zero error\n",
        "        elif choice == 2:\n",
        "            #ValueError\n",
        "            num = int(\"abc\")  #This will raise a ValueError when trying to convert a string to an integer\n",
        "        elif choice == 3:\n",
        "            #KeyError\n",
        "            my_dict = {\"name\": \"Alice\", \"age\": 25}\n",
        "            value = my_dict[\"address\"]  #This will raise a KeyError since \"address\" is not a key in the dictionary\n",
        "        else:\n",
        "            print(\"Invalid choice\")\n",
        "    except ZeroDivisionError:\n",
        "        print(\"Error: Division by zero occurred.\")\n",
        "    except ValueError:\n",
        "        print(\"Error: Invalid value entered.\")\n",
        "    except KeyError:\n",
        "        print(\"Error: Key not found in the dictionary.\")\n",
        "    except Exception as e:\n",
        "        print(f\"An unexpected error occurred: {e}\")\n",
        "\n",
        "#Call the function to test\n",
        "demo_exceptions()"
      ],
      "metadata": {
        "colab": {
          "base_uri": "https://localhost:8080/"
        },
        "id": "L0Dt9Kf3NFOS",
        "outputId": "2f7677a9-4d69-4e4d-822d-74c84a796965"
      },
      "execution_count": 26,
      "outputs": [
        {
          "output_type": "stream",
          "name": "stdout",
          "text": [
            "Enter a number to trigger an exception (1 for ZeroDivisionError, 2 for ValueError, 3 for KeyError): \n",
            "Error: Invalid value entered.\n"
          ]
        }
      ]
    },
    {
      "cell_type": "code",
      "source": [
        "#13. How would you check if a file exists before attempting to read it in Python?\n",
        "\n",
        "import os\n",
        "\n",
        "#Check if the file exists\n",
        "file_path = \"2327.txt\"\n",
        "\n",
        "if os.path.exists(file_path):\n",
        "    with open(file_path, \"r\") as file:\n",
        "        content = file.read()\n",
        "        print(content)\n",
        "else:\n",
        "    print(f\"The file {file_path} does not exist.\")"
      ],
      "metadata": {
        "colab": {
          "base_uri": "https://localhost:8080/"
        },
        "id": "7tcf9CuWNFXJ",
        "outputId": "7032334a-c654-41f5-ded9-26f594ce61ed"
      },
      "execution_count": 49,
      "outputs": [
        {
          "output_type": "stream",
          "name": "stdout",
          "text": [
            "The file 2327.txt does not exist.\n"
          ]
        }
      ]
    },
    {
      "cell_type": "code",
      "source": [
        "#14. Write a program that uses the logging module to log both informational and error messages.\n",
        "\n",
        "import logging\n",
        "\n",
        "#Set up logging configuration\n",
        "logging.basicConfig(filename='app_log.txt', level=logging.DEBUG, format='%(asctime)s - %(levelname)s - %(message)s')\n",
        "\n",
        "#Logging an informational message\n",
        "logging.info(\"This is an informational message.\")\n",
        "\n",
        "#Simulate an error and log it\n",
        "try:\n",
        "    result = 10 / 0  #This will raise a ZeroDivisionError\n",
        "except ZeroDivisionError as e:\n",
        "    logging.error(f\"Error occurred: {e}\")\n",
        "\n",
        "#Log a warning message\n",
        "logging.warning(\"This is a warning message.\")\n",
        "\n",
        "#Log a critical message\n",
        "logging.critical(\"This is a critical message.\")\n"
      ],
      "metadata": {
        "colab": {
          "base_uri": "https://localhost:8080/"
        },
        "id": "4eu_Hq85NFge",
        "outputId": "3880b3f0-0842-472a-dcc1-77873ed9ab81"
      },
      "execution_count": 29,
      "outputs": [
        {
          "output_type": "stream",
          "name": "stderr",
          "text": [
            "ERROR:root:Error occurred: division by zero\n",
            "WARNING:root:This is a warning message.\n",
            "CRITICAL:root:This is a critical message.\n"
          ]
        }
      ]
    },
    {
      "cell_type": "code",
      "source": [
        "#15. Write a Python program that prints the content of a file and handles the case when the file is empty.\n",
        "\n",
        "def print_file_content(file_path):\n",
        "    try:\n",
        "        with open(file_path, \"r\") as file:\n",
        "            content = file.read()\n",
        "            if content:  #Check if content is not empty\n",
        "                print(content)\n",
        "            else:\n",
        "                print(\"The file is empty.\")\n",
        "    except FileNotFoundError:\n",
        "        print(f\"Error: The file {file_path} does not exist.\")\n",
        "    except Exception as e:\n",
        "        print(f\"An unexpected error occurred: {e}\")\n",
        "\n",
        "#Test the function with a file path\n",
        "file_path = \"example.txt\"\n",
        "print_file_content(file_path)"
      ],
      "metadata": {
        "colab": {
          "base_uri": "https://localhost:8080/"
        },
        "id": "bfF5iVgvNFp1",
        "outputId": "e95157ee-985b-458c-d68f-e3cb17961afa"
      },
      "execution_count": 30,
      "outputs": [
        {
          "output_type": "stream",
          "name": "stdout",
          "text": [
            "Hello, this is a test string.This is an appended line.\n",
            "\n"
          ]
        }
      ]
    },
    {
      "cell_type": "code",
      "source": [
        "#16. Demonstrate how to use memory profiling to check the memory usage of a small program.\n",
        "\n",
        "from memory_profiler import profile\n",
        "\n",
        "@profile\n",
        "def my_function():\n",
        "    a = [1] * (10 ** 6)  #Create a list with a million elements\n",
        "    b = [2] * (2 * 10 ** 7)  #Create a larger list with 20 million elements\n",
        "    del b  #Delete the larger list to see memory usage change\n",
        "    return a\n",
        "\n",
        "if __name__ == \"__main__\":\n",
        "    my_function()\n",
        "\n",
        "\n",
        "    #NOTE: FOR RUNNING THIS FILE WE HWVE TO SAVE THIS FILE AND THEN mprof run FILENAME.py ENTER THIS CODE THEN THIS WILL RUN\n",
        "\n"
      ],
      "metadata": {
        "colab": {
          "base_uri": "https://localhost:8080/",
          "height": 384
        },
        "id": "I12SInhLNFy9",
        "outputId": "3a063019-1649-4050-b61d-f1fbac47dda9"
      },
      "execution_count": 32,
      "outputs": [
        {
          "output_type": "error",
          "ename": "ModuleNotFoundError",
          "evalue": "No module named 'memory_profiler'",
          "traceback": [
            "\u001b[0;31m---------------------------------------------------------------------------\u001b[0m",
            "\u001b[0;31mModuleNotFoundError\u001b[0m                       Traceback (most recent call last)",
            "\u001b[0;32m<ipython-input-32-d966a15698a8>\u001b[0m in \u001b[0;36m<cell line: 2>\u001b[0;34m()\u001b[0m\n\u001b[1;32m      1\u001b[0m \u001b[0;31m#16. Demonstrate how to use memory profiling to check the memory usage of a small program.\u001b[0m\u001b[0;34m\u001b[0m\u001b[0;34m\u001b[0m\u001b[0m\n\u001b[0;32m----> 2\u001b[0;31m \u001b[0;32mfrom\u001b[0m \u001b[0mmemory_profiler\u001b[0m \u001b[0;32mimport\u001b[0m \u001b[0mprofile\u001b[0m\u001b[0;34m\u001b[0m\u001b[0;34m\u001b[0m\u001b[0m\n\u001b[0m\u001b[1;32m      3\u001b[0m \u001b[0;34m\u001b[0m\u001b[0m\n\u001b[1;32m      4\u001b[0m \u001b[0;34m@\u001b[0m\u001b[0mprofile\u001b[0m\u001b[0;34m\u001b[0m\u001b[0;34m\u001b[0m\u001b[0m\n\u001b[1;32m      5\u001b[0m \u001b[0;32mdef\u001b[0m \u001b[0mmy_function\u001b[0m\u001b[0;34m(\u001b[0m\u001b[0;34m)\u001b[0m\u001b[0;34m:\u001b[0m\u001b[0;34m\u001b[0m\u001b[0;34m\u001b[0m\u001b[0m\n",
            "\u001b[0;31mModuleNotFoundError\u001b[0m: No module named 'memory_profiler'",
            "",
            "\u001b[0;31m---------------------------------------------------------------------------\u001b[0;32m\nNOTE: If your import is failing due to a missing package, you can\nmanually install dependencies using either !pip or !apt.\n\nTo view examples of installing some common dependencies, click the\n\"Open Examples\" button below.\n\u001b[0;31m---------------------------------------------------------------------------\u001b[0m\n"
          ],
          "errorDetails": {
            "actions": [
              {
                "action": "open_url",
                "actionText": "Open Examples",
                "url": "/notebooks/snippets/importing_libraries.ipynb"
              }
            ]
          }
        }
      ]
    },
    {
      "cell_type": "code",
      "source": [
        "#17. Write a Python program to create and write a list of numbers to a file, one number per line.\n",
        "\n",
        "numbers = [1, 2, 3, 4, 5, 6, 7, 8, 9, 10]\n",
        "\n",
        "#Open a file in write mode\n",
        "with open(\"numbers.txt\", \"w\") as file:\n",
        "    #Write each number in the list to the file, one number per line\n",
        "    for number in numbers:\n",
        "        file.write(f\"{number}\\n\")\n",
        "\n",
        "print(\"Numbers have been written to the file.\")\n",
        "\n",
        "#the list of numbers being written to the file\n",
        "#When you run the program, it will create a file called numbers.txt in the same directory where the Python script is executed.\n",
        "#If you want to save the output to a specific location, you can provide the full path for the file\n"
      ],
      "metadata": {
        "colab": {
          "base_uri": "https://localhost:8080/"
        },
        "id": "ObgIJtX0NF7y",
        "outputId": "4f408e09-24ba-4409-c0d1-da2ccba899aa"
      },
      "execution_count": 36,
      "outputs": [
        {
          "output_type": "stream",
          "name": "stdout",
          "text": [
            "Numbers have been written to the file.\n"
          ]
        }
      ]
    },
    {
      "cell_type": "code",
      "source": [
        "#18. How would you implement a basic logging setup that logs to a file with rotation after 1MB?\n",
        "\n",
        "import logging\n",
        "from logging.handlers import RotatingFileHandler\n",
        "\n",
        "#Set up logging configuration\n",
        "log_filename = \"app.log\"\n",
        "max_log_size = 1 * 1024 * 1024  #1MB\n",
        "backup_count = 3  #Keep 3 backup log files\n",
        "\n",
        "#Create a rotating file handler\n",
        "handler = RotatingFileHandler(log_filename, maxBytes=max_log_size, backupCount=backup_count)\n",
        "\n",
        "#Set the log format\n",
        "formatter = logging.Formatter('%(asctime)s - %(levelname)s - %(message)s')\n",
        "handler.setFormatter(formatter)\n",
        "\n",
        "#Create a logger and add the handler\n",
        "logger = logging.getLogger()\n",
        "logger.setLevel(logging.INFO)\n",
        "logger.addHandler(handler)\n",
        "\n",
        "#Example logging\n",
        "logger.info(\"This is an informational message.\")\n",
        "logger.error(\"This is an error message.\")\n",
        "logger.warning(\"This is a warning message.\")\n",
        "\n",
        "print(\"Logs are being written to 'app.log' with rotation after 1MB.\")\n"
      ],
      "metadata": {
        "colab": {
          "base_uri": "https://localhost:8080/"
        },
        "id": "KHoQSYJWNGEN",
        "outputId": "423ddaf8-2da6-4301-936e-b704e4742936"
      },
      "execution_count": 37,
      "outputs": [
        {
          "output_type": "stream",
          "name": "stderr",
          "text": [
            "INFO:root:This is an informational message.\n",
            "ERROR:root:This is an error message.\n",
            "WARNING:root:This is a warning message.\n"
          ]
        },
        {
          "output_type": "stream",
          "name": "stdout",
          "text": [
            "Logs are being written to 'app.log' with rotation after 1MB.\n"
          ]
        }
      ]
    },
    {
      "cell_type": "code",
      "source": [
        "#19. Write a program that handles both IndexError and KeyError using a try-except block.\n",
        "\n",
        "def handle_errors():\n",
        "    my_list = [1, 2, 3]\n",
        "    my_dict = {\"a\": 1, \"b\": 2, \"c\": 3}\n",
        "\n",
        "    try:\n",
        "        #Trying to access an index out of range in the list\n",
        "        print(my_list[5])  #IndexError\n",
        "\n",
        "        #Trying to access a key that doesn't exist in the dictionary\n",
        "        print(my_dict[\"d\"])  #KeyError\n",
        "    except IndexError as e:\n",
        "        print(f\"IndexError occurred: {e}\")\n",
        "    except KeyError as e:\n",
        "        print(f\"KeyError occurred: {e}\")\n",
        "\n",
        "#Call the function to see the output\n",
        "handle_errors()"
      ],
      "metadata": {
        "colab": {
          "base_uri": "https://localhost:8080/"
        },
        "id": "xWMcn0JgNGNh",
        "outputId": "0961711f-81fc-4d36-ef5a-0d3d02aeb889"
      },
      "execution_count": 38,
      "outputs": [
        {
          "output_type": "stream",
          "name": "stdout",
          "text": [
            "IndexError occurred: list index out of range\n"
          ]
        }
      ]
    },
    {
      "cell_type": "code",
      "source": [
        "#20. How would you open a file and read its contents using a context manager in Python?\n",
        "\n",
        "file_path = \"example.txt\"\n",
        "\n",
        "with open(file_path, \"r\") as file:\n",
        "    content = file.read()  #Read the entire content of the file\n",
        "    print(content)  #Print the content of the file\n",
        "\n",
        "    #This output is because of first question."
      ],
      "metadata": {
        "colab": {
          "base_uri": "https://localhost:8080/"
        },
        "id": "qFHNi6GiNGWe",
        "outputId": "e56f8898-79e8-45ea-ee6f-49d7007f489a"
      },
      "execution_count": 39,
      "outputs": [
        {
          "output_type": "stream",
          "name": "stdout",
          "text": [
            "Hello, this is a test string.This is an appended line.\n",
            "\n"
          ]
        }
      ]
    },
    {
      "cell_type": "code",
      "source": [
        "#21. Write a Python program that reads a file and prints the number of occurrences of a specific word.\n",
        "\n",
        "def count_word_in_file(file_path, word_to_count):\n",
        "    try:\n",
        "        with open(file_path, 'r') as file:\n",
        "            content = file.read()  #Read the entire file content\n",
        "            word_count = content.lower().split().count(word_to_count.lower())  #Count occurrences of the word (case-insensitive)\n",
        "            print(f\"The word '{word_to_count}' appears {word_count} times in the file.\")\n",
        "    except FileNotFoundError:\n",
        "        print(f\"Error: The file {file_path} does not exist.\")\n",
        "    except Exception as e:\n",
        "        print(f\"An unexpected error occurred: {e}\")\n",
        "\n",
        "#Test the function with a file path and the word to count\n",
        "file_path = \"example.txt\"\n",
        "word_to_count = \"the\"\n",
        "count_word_in_file(file_path, word_to_count)"
      ],
      "metadata": {
        "colab": {
          "base_uri": "https://localhost:8080/"
        },
        "id": "H5um2bL0NGfp",
        "outputId": "4e7c2c18-1d86-4e2f-d2a0-4ab9b57b4e6d"
      },
      "execution_count": 40,
      "outputs": [
        {
          "output_type": "stream",
          "name": "stdout",
          "text": [
            "The word 'the' appears 0 times in the file.\n"
          ]
        }
      ]
    },
    {
      "cell_type": "code",
      "source": [
        "#22. How can you check if a file is empty before attempting to read its contents?\n",
        "\n",
        "import os\n",
        "\n",
        "def read_file_if_not_empty(file_path):\n",
        "    #Check if the file exists and is not empty\n",
        "    if os.path.exists(file_path) and os.path.getsize(file_path) > 0:\n",
        "        with open(file_path, 'r') as file:\n",
        "            content = file.read()\n",
        "            print(\"File content:\")\n",
        "            print(content)\n",
        "    elif os.path.exists(file_path):\n",
        "        print(\"The file is empty.\")\n",
        "    else:\n",
        "        print(f\"Error: The file {file_path} does not exist.\")\n",
        "\n",
        "#Test the function with a file path\n",
        "file_path = \"2327.txt\"\n",
        "read_file_if_not_empty(file_path)\n"
      ],
      "metadata": {
        "colab": {
          "base_uri": "https://localhost:8080/"
        },
        "id": "jucIgtZPNGoP",
        "outputId": "db9a3351-6c0b-4eb1-9012-f8b0db8a3af3"
      },
      "execution_count": 43,
      "outputs": [
        {
          "output_type": "stream",
          "name": "stdout",
          "text": [
            "Error: The file 2327.txt does not exist.\n"
          ]
        }
      ]
    },
    {
      "cell_type": "code",
      "source": [
        "#23. Write a Python program that writes to a log file when an error occurs during file handling.\n",
        "\n",
        "import logging\n",
        "\n",
        "#Set up logging configuration\n",
        "logging.basicConfig(\n",
        "    filename=\"error_log.txt\",  #Log file name\n",
        "    level=logging.ERROR,       #Set log level to ERROR\n",
        "    format='%(asctime)s - %(levelname)s - %(message)s'  #Log format\n",
        ")\n",
        "\n",
        "def handle_file_operations(file_path):\n",
        "    try:\n",
        "        #Attempt to open and read the file\n",
        "        with open(file_path, 'r') as file:\n",
        "            content = file.read()\n",
        "            print(content)  #Print file content to console\n",
        "    except FileNotFoundError as e:\n",
        "        #Log the error if the file is not found\n",
        "        logging.error(f\"File not found: {file_path} - {e}\")\n",
        "        print(f\"Error: The file {file_path} does not exist.\")\n",
        "    except PermissionError as e:\n",
        "        #Log the error if there is a permission issue\n",
        "        logging.error(f\"Permission error: {file_path} - {e}\")\n",
        "        print(f\"Error: Permission denied for {file_path}.\")\n",
        "    except Exception as e:\n",
        "        #Log any other errors\n",
        "        logging.error(f\"An unexpected error occurred while handling {file_path} - {e}\")\n",
        "        print(f\"An unexpected error occurred: {e}\")\n",
        "\n",
        "#Test the function with a file path\n",
        "file_path = \"2327.txt\" #If i will write example.txt it will Hello, this is a test string.This is an appended line. Because that file exist in first question\n",
        "handle_file_operations(file_path)"
      ],
      "metadata": {
        "colab": {
          "base_uri": "https://localhost:8080/"
        },
        "id": "Ysiwf-RlNGxB",
        "outputId": "c7b01b09-5f8b-42e2-d9ba-257b3b470500"
      },
      "execution_count": 48,
      "outputs": [
        {
          "output_type": "stream",
          "name": "stderr",
          "text": [
            "ERROR:root:File not found: 2327.txt - [Errno 2] No such file or directory: '2327.txt'\n"
          ]
        },
        {
          "output_type": "stream",
          "name": "stdout",
          "text": [
            "Error: The file 2327.txt does not exist.\n"
          ]
        }
      ]
    }
  ]
}