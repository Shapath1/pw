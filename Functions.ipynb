{
  "nbformat": 4,
  "nbformat_minor": 0,
  "metadata": {
    "colab": {
      "provenance": []
    },
    "kernelspec": {
      "name": "python3",
      "display_name": "Python 3"
    },
    "language_info": {
      "name": "python"
    }
  },
  "cells": [
    {
      "cell_type": "markdown",
      "source": [
        "Q1. **What is the difference between a function and a method in Python?**\n",
        "\n",
        "Ans.A function is a block of code defined using def and can be called independently.\n",
        "\n",
        "A method is a function that is called on an object and is associated with a class.\n",
        "\n",
        "# Function\n",
        "def greet():\n",
        "    return \"Hello!\"\n",
        "\n",
        "print(greet())  # Independent call\n",
        "# output\n",
        "Hello!\n",
        "\n",
        "# Method\n",
        "class Greeter:\n",
        "    def greet(self):\n",
        "        return \"Hello from a method!\"\n",
        "\n",
        "obj = Greeter()\n",
        "print(obj.greet())  # Called on an object\n",
        "#output\n",
        "Hello from a method!\n",
        "\n",
        "Q2. **Explain the concept of function arguments and parameters in Python.**\n",
        "\n",
        "Ans. Parameters are placeholders defined in a function declaration.\n",
        "\n",
        " Arguments are the actual values passed to the function when called.\n",
        "\n",
        " # Parameters: a, b\n",
        "def add(a, b):\n",
        "    return a + b\n",
        "\n",
        "# Arguments: 5, 3\n",
        "result = add(5, 3)\n",
        "print(result)\n",
        "#output\n",
        "8\n",
        "\n",
        "Q3. **What are the different ways to define and call a function in Python?**\n",
        "\n",
        "Ans. Functions in Python can be defined and called in the following ways:\n",
        "\n",
        "-Standard Function\n",
        "\n",
        "Defined using def and called by name.\n",
        "\n",
        "def greet():\n",
        "    return \"Hello!\"\n",
        "print(greet())  #Call\n",
        "\n",
        "-Function with Parameters\n",
        "\n",
        "def add(a, b):\n",
        "    return a + b\n",
        "print(add(3, 5))  #Call with arguments\n",
        "\n",
        "-Lambda (Anonymous Function)\n",
        "\n",
        "square = lambda x: x ** 2\n",
        "print(square(4))  # Call\n",
        "\n",
        "-Recursive Function\n",
        "\n",
        "Calls itself.\n",
        "\n",
        "def factorial(n):\n",
        "    return 1 if n == 0 else n * factorial(n - 1)\n",
        "print(factorial(5))  #Call\n",
        "\n",
        "Q4. **What is the purpose of the `return` statement in a Python function?**\n",
        "\n",
        "Ans. The \"return\" statement is used to send a value from a function back to the caller ending the functions execution.\n",
        "\n",
        "#Example\n",
        "def square(num):\n",
        "    return num ** 2\n",
        "\n",
        "result = square(4)\n",
        "print(result)\n",
        "\n",
        "#output\n",
        "16\n",
        "\n",
        "Q5. **What are iterators in Python and how do they differ from iterables?**\n",
        "\n",
        "Ans. Iterable: An object that can be looped over (example: lists, tuples). It has an __iter__() method.\n",
        "\n",
        "Iterator: An object that represents a stream of data. It implements both __iter__() and __next__() methods.\n",
        "\n",
        "Difference: An iterator is created from an iterable using iter() and retrieves items one at a time with next().\n",
        "\n",
        "#Example\n",
        "#Iterable\n",
        "my_list = [1, 2, 3]\n",
        "\n",
        "#Create an iterator\n",
        "iterator = iter(my_list)\n",
        "\n",
        "print(next(iterator))  #Output: 1\n",
        "print(next(iterator))  #Output: 2\n",
        "\n",
        "Q6. **Explain the concept of generators in Python and how they are defined.**\n",
        "\n",
        "Ans. A generator is a special type of iterator in Python that yields values one at a time using the yield keyword, allowing you to iterate over large datasets without storing the entire dataset in memory.\n",
        "\n",
        "Generators are defined using a function with yield.\n",
        "\n",
        "Generators are memory-efficient as they produce items on demand.\n",
        "\n",
        "#Example\n",
        "def count_up_to(n):\n",
        "    for i in range(1, n + 1):\n",
        "        yield i\n",
        "\n",
        "gen = count_up_to(3)\n",
        "\n",
        "print(next(gen))  #Output: 1\n",
        "\n",
        "print(next(gen))  #Output: 2\n",
        "\n",
        "print(next(gen))  #Output: 3\n",
        "\n",
        "Q7. **What are the advantages of using generators over regular functions?**\n",
        "\n",
        "Ans. -Memory Efficiency: They generate items one at a time, avoiding the need to store large datasets in memory.\n",
        "\n",
        "-Lazy Evaluation: Values are produced only when required, improving performance for large or infinite sequences.\n",
        "\n",
        "-Simplified Code: They make writing iterators easier using the yield keyword.\n",
        "\n",
        "#Example\n",
        "# Generator\n",
        "def generate_numbers(n):\n",
        "    for i in range(n):\n",
        "        yield i\n",
        "\n",
        "for num in generate_numbers(5):\n",
        "    print(num)\n",
        "#output\n",
        "0\n",
        "\n",
        "1\n",
        "\n",
        "2\n",
        "\n",
        "3\n",
        "\n",
        "4\n",
        "\n",
        "Q8. **What is a lambda function in Python and when is it typically used?**\n",
        "\n",
        "Ans. A lambda function is an anonymous one-liner function defined using the lambda keyword. It is typically used for short throwaway functions that are not reused elsewhere especially as arguments to higher-order functions like map, filter, and sort.\n",
        "#Syntax\n",
        "lambda arguments: expression\n",
        "\n",
        "#Example\n",
        "# Lambda to square a number\n",
        "square = lambda x: x ** 2\n",
        "print(square(4))  # Output: 16\n",
        "\n",
        "# Using in a list sorting\n",
        "names = [\"Ajay\", \"Bijay\", \"Sanjay\"]\n",
        "\n",
        "names.sort(key=lambda name: len(name))\n",
        "\n",
        "print(names)  \n",
        "#Output:\n",
        "['Bijay', 'Sanjay', 'Ajay']\n",
        "\n",
        "Q9. **Explain the purpose and usage of the `map()` function in Python.**\n",
        "\n",
        "Ans. The map() function in Python applies a given function to all items in an iterable (like a list) and returns an iterator that yields the results.\n",
        "\n",
        "#Syntax\n",
        "map(function, iterable)\n",
        "\n",
        "function: The function to apply to each item.\n",
        "\n",
        "iterable: The iterable whose items are passed to the function.\n",
        "#Example\n",
        "#Function to square a number\n",
        "def square(x):\n",
        "    return x ** 2\n",
        "\n",
        "numbers = [1, 2, 3, 4]\n",
        "squared_numbers = map(square, numbers)\n",
        "\n",
        "#Convert map object to list\n",
        "print(list(squared_numbers))  \n",
        "#Output:\n",
        "[1, 4, 9, 16]\n",
        "#Usecase\n",
        "map() is often used when you need to apply a function to each element of an iterable like transforming data in a list.\n",
        "\n",
        "Q10. **What is the difference between `map()`, `reduce()`, and `filter()` functions in Python?**\n",
        "\n",
        "Ans. map():\n",
        "\n",
        "Purpose: Applies a function to every item in an iterable and returns a new iterable (map object).\n",
        "\n",
        "Usage: Transforms data.\n",
        "\n",
        "#Example\n",
        "numbers = [1, 2, 3]\n",
        "\n",
        "result = map(lambda x: x * 2, numbers)\n",
        "\n",
        "print(list(result))\n",
        "#Output:\n",
        "[2, 4, 6]\n",
        "\n",
        "reduce() (from the functools module):\n",
        "\n",
        "Purpose: Applies a function cumulatively to the items of an iterable, reducing it to a single value.\n",
        "\n",
        "Usage: Reduces data to a single result (example: summing or multiplying all items).\n",
        "\n",
        "#Example\n",
        "from functools import reduce\n",
        "\n",
        "\n",
        "numbers = [1, 2, 3]\n",
        "\n",
        "result = reduce(lambda x, y: x + y, numbers)\n",
        "\n",
        "print(result)  \n",
        "#Output:\n",
        "6\n",
        "\n",
        "filter():\n",
        "\n",
        "Purpose: Filters items in an iterable based on a function that returns True or False returning only those that meet the condition.\n",
        "\n",
        "Usage: Selects elements based on a condition.\n",
        "\n",
        "#Example\n",
        "numbers = [1, 2, 3, 4]\n",
        "\n",
        "result = filter(lambda x: x % 2 == 0, numbers)\n",
        "\n",
        "print(list(result))  \n",
        "#Output:\n",
        "[2, 4]\n",
        "\n",
        "#In short\n",
        "map(): Transforms each item.\n",
        "\n",
        "reduce(): Reduces the iterable to a single value.\n",
        "\n",
        "filter(): Filters items based on a condition.\n",
        "\n",
        "Q11. **Using pen & Paper write the internal mechanism for sum operation using  reduce function on this given\n",
        "list:[47,11,42,13];**\n",
        "\n",
        "Ans. Attached in docs.\n"
      ],
      "metadata": {
        "id": "qf1KvW168sFC"
      }
    },
    {
      "cell_type": "code",
      "source": [
        "#1. Write a Python function that takes a list of numbers as input and returns the sum of all even numbers in the list.\n",
        "def sum_of_even_numbers(numbers):\n",
        "    return sum(num for num in numbers if num % 2 == 0)\n",
        "numbers = [47, 11, 42, 13, 8, 6]\n",
        "result = sum_of_even_numbers(numbers)\n",
        "print(result)"
      ],
      "metadata": {
        "colab": {
          "base_uri": "https://localhost:8080/"
        },
        "id": "y19PRjObGF7D",
        "outputId": "8e19897f-5b31-4080-8a54-9f624fdfdf97"
      },
      "execution_count": null,
      "outputs": [
        {
          "output_type": "stream",
          "name": "stdout",
          "text": [
            "56\n"
          ]
        }
      ]
    },
    {
      "cell_type": "code",
      "source": [
        "#2. Create a Python function that accepts a string and returns the reverse of that string.\n",
        "def reverse_string(stringg):\n",
        "    return stringg[::-1]\n",
        "input_string = \"pwskills\"\n",
        "reversed_string = reverse_string(input_string)\n",
        "print(reversed_string)\n"
      ],
      "metadata": {
        "colab": {
          "base_uri": "https://localhost:8080/"
        },
        "id": "q9JVWxrzGlsD",
        "outputId": "cbac9651-5497-42c2-f3bb-9defa2c36730"
      },
      "execution_count": null,
      "outputs": [
        {
          "output_type": "stream",
          "name": "stdout",
          "text": [
            "sllikswp\n"
          ]
        }
      ]
    },
    {
      "cell_type": "code",
      "source": [
        "#3. Implement a Python function that takes a list of integers and returns a new list containing the squares of each number.\n",
        "def square_numbers(numbers):\n",
        "    return [num ** 2 for num in numbers]\n",
        "numbers = [1, 2, 3, 4, 5]\n",
        "squared_numbers = square_numbers(numbers)\n",
        "print(squared_numbers)"
      ],
      "metadata": {
        "colab": {
          "base_uri": "https://localhost:8080/"
        },
        "id": "5ix31YMgJSfV",
        "outputId": "68fea68e-e7da-464c-a943-0d7d9d3be31c"
      },
      "execution_count": null,
      "outputs": [
        {
          "output_type": "stream",
          "name": "stdout",
          "text": [
            "[1, 4, 9, 16, 25]\n"
          ]
        }
      ]
    },
    {
      "cell_type": "code",
      "source": [
        "#4. Write a Python function that checks if a given number is prime or not from 1 to 200.\n",
        "def is_prime(n):\n",
        "    if n < 2 or n > 200:\n",
        "        return False\n",
        "    for i in range(2, int(n ** 0.5) + 1):\n",
        "        if n % i == 0:\n",
        "            return False\n",
        "    return True\n",
        "num = int(input(\"Enter a number between 1 and 200: \"))\n",
        "\n",
        "if is_prime(num):\n",
        "    print(f\"{num} is prime\")\n",
        "else:\n",
        "    print(f\"{num} is not prime\")\n"
      ],
      "metadata": {
        "colab": {
          "base_uri": "https://localhost:8080/"
        },
        "id": "V_sAUObKJ8DD",
        "outputId": "0ef6d633-ce37-49f6-af5d-5fcac66d77dc"
      },
      "execution_count": null,
      "outputs": [
        {
          "output_type": "stream",
          "name": "stdout",
          "text": [
            "Enter a number between 1 and 200: 199\n",
            "199 is prime\n"
          ]
        }
      ]
    },
    {
      "cell_type": "code",
      "source": [
        "#5. Create an iterator class in Python that generates the Fibonacci sequence up to a specified number of terms.\n",
        "def fibonacci(n):\n",
        "    a, b = 0, 1\n",
        "    for _ in range(n):\n",
        "        yield a\n",
        "        a, b = b, a + b\n",
        "terms = int(input(\"Enter the number of Fibonacci terms: \"))\n",
        "for num in fibonacci(terms):\n",
        "    print(num)\n"
      ],
      "metadata": {
        "colab": {
          "base_uri": "https://localhost:8080/"
        },
        "id": "1x0dPYBnLSEr",
        "outputId": "f8fabc46-df15-44be-ae14-b72d812af4df"
      },
      "execution_count": null,
      "outputs": [
        {
          "output_type": "stream",
          "name": "stdout",
          "text": [
            "Enter the number of Fibonacci terms: 20\n",
            "0\n",
            "1\n",
            "1\n",
            "2\n",
            "3\n",
            "5\n",
            "8\n",
            "13\n",
            "21\n",
            "34\n",
            "55\n",
            "89\n",
            "144\n",
            "233\n",
            "377\n",
            "610\n",
            "987\n",
            "1597\n",
            "2584\n",
            "4181\n"
          ]
        }
      ]
    },
    {
      "cell_type": "code",
      "source": [
        "#6. Write a generator function in Python that yields the powers of 2 up to a given exponent.\n",
        "def powers2(exponent):\n",
        "    for i in range(exponent + 1):\n",
        "        yield 2 ** i\n",
        "for power in powers2(5):\n",
        "     print(power)\n"
      ],
      "metadata": {
        "colab": {
          "base_uri": "https://localhost:8080/"
        },
        "id": "S2PmeWngMYcQ",
        "outputId": "5eefc5bd-aa2f-4c35-fb4b-805ba744fd7e"
      },
      "execution_count": null,
      "outputs": [
        {
          "output_type": "stream",
          "name": "stdout",
          "text": [
            "1\n",
            "2\n",
            "4\n",
            "8\n",
            "16\n",
            "32\n"
          ]
        }
      ]
    },
    {
      "cell_type": "code",
      "source": [
        "#7. Implement a generator function that reads a file line by line and yields each line as a string.\n",
        "def read_file_lines(filename):\n",
        "    with open(filename, 'r') as file:\n",
        "        for line in file:\n",
        "            yield line.strip()\n",
        "filename = 'file.txt'\n",
        "for line in read_file_lines(filename):\n",
        "    print(line)"
      ],
      "metadata": {
        "colab": {
          "base_uri": "https://localhost:8080/",
          "height": 315
        },
        "id": "bWCxjRTtMsxm",
        "outputId": "5ed45f46-882b-4357-b3e5-77d3952da781"
      },
      "execution_count": null,
      "outputs": [
        {
          "output_type": "error",
          "ename": "FileNotFoundError",
          "evalue": "[Errno 2] No such file or directory: 'file.txt'",
          "traceback": [
            "\u001b[0;31m---------------------------------------------------------------------------\u001b[0m",
            "\u001b[0;31mFileNotFoundError\u001b[0m                         Traceback (most recent call last)",
            "\u001b[0;32m<ipython-input-23-2e33833b3084>\u001b[0m in \u001b[0;36m<cell line: 7>\u001b[0;34m()\u001b[0m\n\u001b[1;32m      5\u001b[0m             \u001b[0;32myield\u001b[0m \u001b[0mline\u001b[0m\u001b[0;34m.\u001b[0m\u001b[0mstrip\u001b[0m\u001b[0;34m(\u001b[0m\u001b[0;34m)\u001b[0m\u001b[0;34m\u001b[0m\u001b[0;34m\u001b[0m\u001b[0m\n\u001b[1;32m      6\u001b[0m \u001b[0mfilename\u001b[0m \u001b[0;34m=\u001b[0m \u001b[0;34m'file.txt'\u001b[0m\u001b[0;34m\u001b[0m\u001b[0;34m\u001b[0m\u001b[0m\n\u001b[0;32m----> 7\u001b[0;31m \u001b[0;32mfor\u001b[0m \u001b[0mline\u001b[0m \u001b[0;32min\u001b[0m \u001b[0mread_file_lines\u001b[0m\u001b[0;34m(\u001b[0m\u001b[0mfilename\u001b[0m\u001b[0;34m)\u001b[0m\u001b[0;34m:\u001b[0m\u001b[0;34m\u001b[0m\u001b[0;34m\u001b[0m\u001b[0m\n\u001b[0m\u001b[1;32m      8\u001b[0m     \u001b[0mprint\u001b[0m\u001b[0;34m(\u001b[0m\u001b[0mline\u001b[0m\u001b[0;34m)\u001b[0m\u001b[0;34m\u001b[0m\u001b[0;34m\u001b[0m\u001b[0m\n",
            "\u001b[0;32m<ipython-input-23-2e33833b3084>\u001b[0m in \u001b[0;36mread_file_lines\u001b[0;34m(filename)\u001b[0m\n\u001b[1;32m      1\u001b[0m \u001b[0;31m#7. Implement a generator function that reads a file line by line and yields each line as a string.\u001b[0m\u001b[0;34m\u001b[0m\u001b[0;34m\u001b[0m\u001b[0m\n\u001b[1;32m      2\u001b[0m \u001b[0;32mdef\u001b[0m \u001b[0mread_file_lines\u001b[0m\u001b[0;34m(\u001b[0m\u001b[0mfilename\u001b[0m\u001b[0;34m)\u001b[0m\u001b[0;34m:\u001b[0m\u001b[0;34m\u001b[0m\u001b[0;34m\u001b[0m\u001b[0m\n\u001b[0;32m----> 3\u001b[0;31m     \u001b[0;32mwith\u001b[0m \u001b[0mopen\u001b[0m\u001b[0;34m(\u001b[0m\u001b[0mfilename\u001b[0m\u001b[0;34m,\u001b[0m \u001b[0;34m'r'\u001b[0m\u001b[0;34m)\u001b[0m \u001b[0;32mas\u001b[0m \u001b[0mfile\u001b[0m\u001b[0;34m:\u001b[0m\u001b[0;34m\u001b[0m\u001b[0;34m\u001b[0m\u001b[0m\n\u001b[0m\u001b[1;32m      4\u001b[0m         \u001b[0;32mfor\u001b[0m \u001b[0mline\u001b[0m \u001b[0;32min\u001b[0m \u001b[0mfile\u001b[0m\u001b[0;34m:\u001b[0m\u001b[0;34m\u001b[0m\u001b[0;34m\u001b[0m\u001b[0m\n\u001b[1;32m      5\u001b[0m             \u001b[0;32myield\u001b[0m \u001b[0mline\u001b[0m\u001b[0;34m.\u001b[0m\u001b[0mstrip\u001b[0m\u001b[0;34m(\u001b[0m\u001b[0;34m)\u001b[0m\u001b[0;34m\u001b[0m\u001b[0;34m\u001b[0m\u001b[0m\n",
            "\u001b[0;31mFileNotFoundError\u001b[0m: [Errno 2] No such file or directory: 'file.txt'"
          ]
        }
      ]
    },
    {
      "cell_type": "code",
      "source": [
        "#8. Use a lambda function in Python to sort a list of tuples based on the second element of each tuple.\n",
        "tuples_list = [(1, 3), (2, 1), (4, 2), (5, 0)]\n",
        "sorted_list = sorted(tuples_list, key=lambda x: x[1])\n",
        "print(sorted_list)\n"
      ],
      "metadata": {
        "colab": {
          "base_uri": "https://localhost:8080/"
        },
        "id": "xAM-UTXcPI3c",
        "outputId": "2871409f-eef3-47af-e502-f5f205eb77af"
      },
      "execution_count": null,
      "outputs": [
        {
          "output_type": "stream",
          "name": "stdout",
          "text": [
            "[(5, 0), (2, 1), (4, 2), (1, 3)]\n"
          ]
        }
      ]
    },
    {
      "cell_type": "code",
      "source": [
        "#9. Write a Python program that uses `map()` to convert a list of temperatures from Celsius to Fahrenheit.\n",
        "celsius_temperatures = [0, 20, 37, 100, -10]\n",
        "def celsius_to_fahrenheit(celsius):\n",
        "    return (celsius * 9/5) + 32\n",
        "fahrenheit_temperatures = list(map(celsius_to_fahrenheit, celsius_temperatures))\n",
        "print(fahrenheit_temperatures)"
      ],
      "metadata": {
        "colab": {
          "base_uri": "https://localhost:8080/"
        },
        "id": "d3qxvw-uPx8B",
        "outputId": "1b0ceefd-2ba8-4116-cd0a-29897500e6e7"
      },
      "execution_count": null,
      "outputs": [
        {
          "output_type": "stream",
          "name": "stdout",
          "text": [
            "[32.0, 68.0, 98.6, 212.0, 14.0]\n"
          ]
        }
      ]
    },
    {
      "cell_type": "code",
      "source": [
        "#10. Create a Python program that uses `filter()` to remove all the vowels from a given string.\n",
        "def is_not_vowel(char):\n",
        "    vowels = \"aeiouAEIOU\"\n",
        "    return char not in vowels\n",
        "input_string = \"Hello, World!\"\n",
        "filtered_string = ''.join(filter(is_not_vowel, input_string))\n",
        "print(filtered_string)"
      ],
      "metadata": {
        "colab": {
          "base_uri": "https://localhost:8080/"
        },
        "id": "kuffrQJnQKFH",
        "outputId": "833a2a28-d477-4f45-f991-1d31e124597f"
      },
      "execution_count": null,
      "outputs": [
        {
          "output_type": "stream",
          "name": "stdout",
          "text": [
            "Hll, Wrld!\n"
          ]
        }
      ]
    },
    {
      "cell_type": "code",
      "source": [
        "#11. Imagine an accounting routine used in a book shop. It works on a list with sublists, which look like this:\n",
        "\n",
        "#Order number           book title and author                    quantity      price per item\n",
        "#34587                  learning python, mark lutz               4             40.95\n",
        "#98762                  programming python, mark lutz            5             56.80\n",
        "#77226                  head first python, paul barry            3             32.95\n",
        "#88112                  enifuhrung in python3, bernd klein       3             24.99\n",
        "\n",
        "#Write a Python program, which returns a list with 2-tuples. Each tuple consists of the order number and the product of the price per item and the quantity. The product should be increased by 10,- € if the value of the order is smaller than 10000 €.\n",
        "\n",
        "#List of orders\n",
        "orders = [\n",
        "    [34587, \"learning python, mark lutz\", 4, 40.95],\n",
        "    [98762, \"programming python, mark lutz\", 5, 56.80],\n",
        "    [77226, \"head first python, paul barry\", 3, 32.95],\n",
        "    [88112, \"einfuhrung in python3, bernd klein\", 3, 24.99]\n",
        "]\n",
        "def calculate_order_totals(orders):\n",
        "    result = []\n",
        "    for order in orders:\n",
        "        order_number = order[0]\n",
        "        quantity = order[2]\n",
        "        price_per_item = order[3]\n",
        "        total = quantity * price_per_item\n",
        "        if total < 10000:  #Add 10 if the total is less than 10000\n",
        "            total += 10\n",
        "\n",
        "        result.append((order_number, round(total, 2)))  #Append the result as a tuple\n",
        "    return result\n",
        "\n",
        "order_totals = calculate_order_totals(orders)\n",
        "print(order_totals)\n"
      ],
      "metadata": {
        "colab": {
          "base_uri": "https://localhost:8080/"
        },
        "id": "oDcjNiDneZ_V",
        "outputId": "260915f7-95df-47a6-c276-afc28a564dc4"
      },
      "execution_count": 5,
      "outputs": [
        {
          "output_type": "stream",
          "name": "stdout",
          "text": [
            "[(34587, 173.8), (98762, 294.0), (77226, 108.85), (88112, 84.97)]\n"
          ]
        }
      ]
    }
  ]
}