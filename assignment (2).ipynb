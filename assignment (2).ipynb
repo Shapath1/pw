{
  "nbformat": 4,
  "nbformat_minor": 0,
  "metadata": {
    "colab": {
      "provenance": []
    },
    "kernelspec": {
      "name": "python3",
      "display_name": "Python 3"
    },
    "language_info": {
      "name": "python"
    }
  },
  "cells": [
    {
      "cell_type": "code",
      "execution_count": null,
      "metadata": {
        "id": "1yk-lrpE7omQ"
      },
      "outputs": [],
      "source": []
    },
    {
      "cell_type": "markdown",
      "source": [
        "Q1. **What are data structures, and why are they important?**\n",
        "\n",
        "Ans. Data structures are organized ways to store, manage, and retrieve data efficiently they are important because they optimize data usage, improve performance, and simplify problem-solving in programming.\n",
        "\n",
        "Q2.  **Explain the difference between mutable and immutable data types with examples?**\n",
        "\n",
        "Ans. Mutable: Can be changed after creation. Example: list, dict.\n",
        "my_list = [1, 2, 3]\n",
        "my_list[0] = 4  #Changes to [4, 2, 3]\n",
        "\n",
        "Immutable: Cannot be changed after creation. Example: tuple, string.\n",
        "my_tuple = (1, 2, 3)\n",
        "my_tuple[0] = 4  #Error: Tuples are immutable\n",
        "\n",
        "Q3. **What are the main differences between lists and tuples in Python?**\n",
        "\n",
        "Ans. Mutability: Lists are mutable; tuples are immutable.\n",
        "Syntax: Lists use []; tuples use ().\n",
        "Performance: Tuples are faster due to immutability.\n",
        "Use Case: Lists are for dynamic data; tuples are for fixed, constant data.\n",
        "\n",
        "Q4. **Describe how dictionaries store data?**\n",
        "\n",
        "Ans. Dictionaries store data as key-value pairs in a hash table. Keys are unique and hashed for quick lookup, while values can be any data type. Example : my_dict = {\"name\": \"Alice\", \"age\": 25}\n",
        "\n",
        "Q5. **Why might you use a set instead of a list in Python?**\n",
        "\n",
        "Ans. Use a set when:\n",
        "-You need to eliminate duplicates automatically.\n",
        "-You require efficient operations like union, intersection, or difference.\n",
        "\n",
        "Q6. **What is a string in Python, and how is it different from a list?**\n",
        "\n",
        "Ans. A string in Python is a sequence of characters enclosed in quotes while a list is a collection of elements that can be of any data type.\n",
        "Key differences:\n",
        "-Mutability: Strings are immutable; lists are mutable.\n",
        "-Data Type: Strings only store characters; lists can store mixed data types.\n",
        "-Syntax: Strings use quotes (\"hello\"), and lists use brackets ([1, 2, \"hello\"]).\n",
        "\n",
        "Q7. **How do tuples ensure data integrity in Python?**\n",
        "\n",
        "Ans. Tuples ensure data integrity by being immutable, meaning their contents cannot be changed after creation this makes them reliable for storing fixed, constant, or unchangeable data.\n",
        "\n",
        "Q8. **What is a hash table, and how does it relate to dictionaries in Python?**\n",
        "\n",
        "Ans. A hash table is a data structure that stores data in key-value pairs using a hashing function for fast lookups like python dictionaries are implemented as hash tables, enabling quick access to values via unique keys.\n",
        "\n",
        "Q9. **Can lists contain different data types in Python?**\n",
        "\n",
        "Ans. Yes lists in Python can contain different data types, such as integers, strings, and objects, all within a single list. Example : my_list = [1, \"hello\", 3.14, True]\n",
        "\n",
        "Q10. **Explain why strings are immutable in Python?**\n",
        "\n",
        "Ans. Strings are immutable in Python to prevent accidental changes and make them more efficient in memory and performance once created their value can't be changed.\n",
        "\n",
        "Q11. **What advantages do dictionaries offer over lists for certain tasks?**\n",
        "\n",
        "Ans. Dictionaries offer faster lookups, insertions, and deletions by using keys for direct access making them more efficient than lists for tasks that require frequent searching or updating by a specific identifier.\n",
        "\n",
        "Q12. **Describe a scenario where using a tuple would be preferable over a list.**\n",
        "\n",
        "Ans. A tuple is preferable when you need to store a fixed collection of items that should not be changed like coordinates (x, y) or days of the week and its immutability ensures data integrity and offers better performance in these cases.\n",
        "\n",
        " Q13. **How do sets handle duplicate values in Python?**\n",
        "\n",
        " Ans. Sets automatically remove duplicate values. When you add an element to a set it only keeps one instance of each unique value ignoring any duplicates.\n",
        "\n",
        " Q14. **How does the “in” keyword work differently for lists and dictionaries?**\n",
        "\n",
        " Ans. For lists: The \"in\" keyword checks if a value is present in the list. It scans each element sequentially. Example :\n",
        "my_list = [1, 2, 3]\n",
        "2 in my_list  #Returns True\n",
        "\n",
        "For dictionaries: The \"in\" keyword checks if a key is present in the dictionary. It does not check for values. Example :    \n",
        "my_dict = {\"a\": 1, \"b\": 2}\n",
        "\"a\" in my_dict  #Returns True\n",
        "\n",
        "Q15. **Can you modify the elements of a tuple? Explain why or why not?**\n",
        "\n",
        "Ans. No we cannot modify the elements of a tuple because tuples are immutable in Python nce created their content cannot be changed ensuring data integrity and efficiency.\n",
        "\n",
        "Q16. **What is a nested dictionary, and give an example of its use case?**\n",
        "\n",
        "Ans. A nested dictionary means that inside a dictionary, instead of simple values (like strings, numbers, or lists) the values themselves are dictionaries this allows you to create a hierarchy of key-value pairs.\n",
        "Use case: Representing multiple levels of data, like details of employees in a company, where each employee has a dictionary of personal and job-related information.\n",
        "Example. company = {\n",
        "    \"Ajay\": {\"age\": 30, \"position\": \"Manager\"},\n",
        "    \"Manjulika\": {\"age\": 25, \"position\": \"Engineer\"}\n",
        "}\n",
        "\n",
        "Q17. **Describe the time complexity of accessing elements in a dictionary.**\n",
        "\n",
        "Ans. Accessing elements in a dictionary is very fast with an average time complexity of O(1) this means it takes the same time to find an item no matter how big the dictionary is.\n",
        "\n",
        "Q18. **In what situations are lists preferred over dictionaries.**\n",
        "\n",
        "Ans. Lists are preferred over dictionaries when you need:\n",
        "-Index-based access: You want to access elements by their position not by a key.\n",
        "-Homogeneous data: You have a collection of similar items (example : numbers or strings) where keys are not needed.\n",
        "\n",
        "Q19. **Why are dictionaries considered unordered, and how does that affect data retrieval?**\n",
        "\n",
        "And. Dictionaries were traditionally considered unordered because in earlier versions of Python the order of key-value pairs was not guaranteed since Python 3.7 dictionaries maintain insertion order though they are still based on a hash table.\n",
        "This affects data retrieval because:\n",
        "-You can't rely on the order of items when iterating over a dictionary (although the order is now maintained in Python 3.7+).\n",
        "-Accessing values is still very efficient since the data is accessed by keys not by order.\n",
        "\n",
        "Q20. **Explain the difference between a list and a dictionary in terms of data retrieval.**\n",
        "\n",
        "Ans. List: Data is retrieved by index which is a position in the list.you access elements using their index like my_list[0] for the first element.\n",
        "Dictionary: Data is retrieved by key You access values using unique keys like my_dict['key'] for the value associated with 'key'.\n",
        "\n",
        "lists use numeric indices while dictionaries use keys to retrieve data.\n",
        "\n",
        "\n"
      ],
      "metadata": {
        "id": "ri4-lzBb7pXF"
      }
    },
    {
      "cell_type": "code",
      "source": [
        "#Q1. Write a code to create a string with your name and print it.\n",
        "my_name = \"Shapath\"\n",
        "print(my_name)\n"
      ],
      "metadata": {
        "colab": {
          "base_uri": "https://localhost:8080/"
        },
        "id": "Thk4bRceTtqA",
        "outputId": "4b012e39-8d1c-4341-a2b0-cbc0121131f3"
      },
      "execution_count": 1,
      "outputs": [
        {
          "output_type": "stream",
          "name": "stdout",
          "text": [
            "Shapath\n"
          ]
        }
      ]
    },
    {
      "cell_type": "code",
      "source": [
        "#Q2. Write a code to find the length of the string \"Hello World\"\n",
        "new_string = \"Hello World\"\n",
        "length = len(new_string)\n",
        "print(length)"
      ],
      "metadata": {
        "colab": {
          "base_uri": "https://localhost:8080/"
        },
        "id": "r2oN2xpoUcY6",
        "outputId": "c2c06bfc-0336-4cdf-dcdb-f829b7d06cc1"
      },
      "execution_count": 3,
      "outputs": [
        {
          "output_type": "stream",
          "name": "stdout",
          "text": [
            "11\n"
          ]
        }
      ]
    },
    {
      "cell_type": "code",
      "source": [
        "#Q3. Write a code to slice the first 3 characters from the string \"Python Programming\"\n",
        "string = \"python programming\"\n",
        "slices = string[:3]\n",
        "print(slices)"
      ],
      "metadata": {
        "colab": {
          "base_uri": "https://localhost:8080/"
        },
        "id": "n55uKDp9VJLs",
        "outputId": "2647b19a-a647-4d61-c66a-de45f08c5446"
      },
      "execution_count": 5,
      "outputs": [
        {
          "output_type": "stream",
          "name": "stdout",
          "text": [
            "pyt\n"
          ]
        }
      ]
    },
    {
      "cell_type": "code",
      "source": [
        "#Q4. Write a code to convert the string \"hello\" to uppercase.\n",
        "string = \"hello\"\n",
        "capital_letter_string = string.upper()\n",
        "print(capital_letter_string)"
      ],
      "metadata": {
        "colab": {
          "base_uri": "https://localhost:8080/"
        },
        "id": "fEbGR81uVv-4",
        "outputId": "5a2fc34e-abb0-4ae1-cf02-516cf5eca447"
      },
      "execution_count": 6,
      "outputs": [
        {
          "output_type": "stream",
          "name": "stdout",
          "text": [
            "HELLO\n"
          ]
        }
      ]
    },
    {
      "cell_type": "code",
      "source": [
        "#Q5. Write a code to replace the word \"apple\" with \"orange\" in the string \"I like apple\"\n",
        "string = \"i like apple\"\n",
        "print(string)\n",
        "new_string = string.replace(\"apple\", \"oragne\")\n",
        "print(new_string)"
      ],
      "metadata": {
        "colab": {
          "base_uri": "https://localhost:8080/"
        },
        "id": "woV5JHBCWmmh",
        "outputId": "2ec590dc-84fb-4533-e0ec-d9ba56e1cc34"
      },
      "execution_count": 10,
      "outputs": [
        {
          "output_type": "stream",
          "name": "stdout",
          "text": [
            "i like apple\n",
            "i like oragne\n"
          ]
        }
      ]
    },
    {
      "cell_type": "code",
      "source": [
        "#Q6. Write a code to create a list with numbers 1 to 5 and print it.\n",
        "listt=[1,2,3,4,5]\n",
        "print(listt)"
      ],
      "metadata": {
        "colab": {
          "base_uri": "https://localhost:8080/"
        },
        "id": "BJjWqj2IZWlE",
        "outputId": "423c5b42-62a2-40ec-80c4-a942557bb7a7"
      },
      "execution_count": 11,
      "outputs": [
        {
          "output_type": "stream",
          "name": "stdout",
          "text": [
            "[1, 2, 3, 4, 5]\n"
          ]
        }
      ]
    },
    {
      "cell_type": "code",
      "source": [
        "#Q7. Write a code to append the number 10 to the list [1, 2, 3, 4]\n",
        "listt=[1,2,3,4]\n",
        "print(listt)\n",
        "listt.append(10)\n",
        "print(listt)"
      ],
      "metadata": {
        "colab": {
          "base_uri": "https://localhost:8080/"
        },
        "id": "7yhY2rauZvAQ",
        "outputId": "f268938b-2603-4000-c76f-e4387ff6c430"
      },
      "execution_count": 12,
      "outputs": [
        {
          "output_type": "stream",
          "name": "stdout",
          "text": [
            "[1, 2, 3, 4]\n",
            "[1, 2, 3, 4, 10]\n"
          ]
        }
      ]
    },
    {
      "cell_type": "code",
      "source": [
        "#Q8. Write a code to remove the number 3 from the list [1, 2, 3, 4, 5].\n",
        "listt=[1,2,3,4,5]\n",
        "print(listt)\n",
        "listt.remove(3)\n",
        "print(listt)"
      ],
      "metadata": {
        "colab": {
          "base_uri": "https://localhost:8080/"
        },
        "id": "YJnAMLGvaO3S",
        "outputId": "3a2d060b-a7ed-49ef-e8e4-317356686fea"
      },
      "execution_count": 14,
      "outputs": [
        {
          "output_type": "stream",
          "name": "stdout",
          "text": [
            "[1, 2, 3, 4, 5]\n",
            "[1, 2, 4, 5]\n"
          ]
        }
      ]
    },
    {
      "cell_type": "code",
      "source": [
        "#Q9. Write a code to access the second element in the list ['a', 'b', 'c', 'd'].\n",
        "listt=['a', 'b', 'c', 'd']\n",
        "second_element = listt[1]\n",
        "print(second_element)\n",
        "type(second_element)"
      ],
      "metadata": {
        "colab": {
          "base_uri": "https://localhost:8080/"
        },
        "id": "MJyxqoZNaoUA",
        "outputId": "d237e7bf-3a17-4f9c-b6eb-06d3363ae58b"
      },
      "execution_count": 19,
      "outputs": [
        {
          "output_type": "stream",
          "name": "stdout",
          "text": [
            "b\n"
          ]
        },
        {
          "output_type": "execute_result",
          "data": {
            "text/plain": [
              "str"
            ]
          },
          "metadata": {},
          "execution_count": 19
        }
      ]
    },
    {
      "cell_type": "code",
      "source": [
        "#Q10. Write a code to reverse the list [10, 20, 30, 40, 50].\n",
        "listt=[10,20,30,40,50]\n",
        "print(listt)\n",
        "listt.reverse()\n",
        "print(listt)\n",
        "\n",
        "#another way\n",
        "listt=[10,20,30,40,50]\n",
        "print(listt)\n",
        "reversed_list = listt[::-1]\n",
        "print(reversed_list)"
      ],
      "metadata": {
        "colab": {
          "base_uri": "https://localhost:8080/"
        },
        "id": "RGJytVHcbnO4",
        "outputId": "027820c5-678e-4fd5-c8dd-1f04f82d3b9f"
      },
      "execution_count": 21,
      "outputs": [
        {
          "output_type": "stream",
          "name": "stdout",
          "text": [
            "[10, 20, 30, 40, 50]\n",
            "[50, 40, 30, 20, 10]\n",
            "[10, 20, 30, 40, 50]\n",
            "[50, 40, 30, 20, 10]\n"
          ]
        }
      ]
    },
    {
      "cell_type": "code",
      "source": [
        "#Q11. Write a code to create a tuple with the elements 10, 20, 30 and print it\n",
        "tuplee=(10,20,30)\n",
        "print(tuplee)"
      ],
      "metadata": {
        "colab": {
          "base_uri": "https://localhost:8080/"
        },
        "id": "r0oKBSSjczHX",
        "outputId": "845f29c4-dcca-4b09-de6e-111ecd1f14e6"
      },
      "execution_count": 22,
      "outputs": [
        {
          "output_type": "stream",
          "name": "stdout",
          "text": [
            "(10, 20, 30)\n"
          ]
        }
      ]
    },
    {
      "cell_type": "code",
      "source": [
        "#Q12. Write a code to access the first element of the tuple ('apple', 'banana', 'cherry').\n",
        "tuplee=('apple', 'banana', 'cherry')\n",
        "print(tuplee)\n",
        "first_ele=tuplee[1]\n",
        "print(first_ele)"
      ],
      "metadata": {
        "colab": {
          "base_uri": "https://localhost:8080/"
        },
        "id": "W1R_9p6TdMtD",
        "outputId": "20bf5698-4d91-41a3-c739-b13f8bdac1b8"
      },
      "execution_count": 23,
      "outputs": [
        {
          "output_type": "stream",
          "name": "stdout",
          "text": [
            "('apple', 'banana', 'cherry')\n",
            "banana\n"
          ]
        }
      ]
    },
    {
      "cell_type": "code",
      "source": [
        "#Q13. Write a code to count how many times the number 2 appears in the tuple (1, 2, 3, 2, 4, 2).\n",
        "tuplee=(1, 2, 3, 2, 4, 2)\n",
        "countt=tuplee.count(2)\n",
        "print(countt)"
      ],
      "metadata": {
        "colab": {
          "base_uri": "https://localhost:8080/"
        },
        "id": "Ccocpzjmd8_k",
        "outputId": "05a7920e-f993-49e4-e2d0-4174ee7ab3d5"
      },
      "execution_count": 24,
      "outputs": [
        {
          "output_type": "stream",
          "name": "stdout",
          "text": [
            "3\n"
          ]
        }
      ]
    },
    {
      "cell_type": "code",
      "source": [
        "#Q14. Write a code to find the index of the element \"cat\" in the tuple ('dog', 'cat', 'rabbit')\n",
        "tuplee=('dog', 'cat', 'rabbit')\n",
        "indexx=tuplee.index('cat')\n",
        "print(indexx)"
      ],
      "metadata": {
        "colab": {
          "base_uri": "https://localhost:8080/"
        },
        "id": "A5m-JbcJeaZW",
        "outputId": "a9533fb7-56b7-4347-df44-46afef166e36"
      },
      "execution_count": 25,
      "outputs": [
        {
          "output_type": "stream",
          "name": "stdout",
          "text": [
            "1\n"
          ]
        }
      ]
    },
    {
      "cell_type": "code",
      "source": [
        "#Q15. Write a code to check if the element \"banana\" is in the tuple ('apple', 'orange', 'banana')\n",
        "tuplee=('apple', 'orange', 'banana')\n",
        "is_banana_in_tuple= 'banana' in tuplee\n",
        "print(is_banana_in_tuple)"
      ],
      "metadata": {
        "colab": {
          "base_uri": "https://localhost:8080/"
        },
        "id": "etGbu-A8e_-S",
        "outputId": "59aabff8-780a-409a-9035-4edaf5867ae1"
      },
      "execution_count": 26,
      "outputs": [
        {
          "output_type": "stream",
          "name": "stdout",
          "text": [
            "True\n"
          ]
        }
      ]
    },
    {
      "cell_type": "code",
      "source": [
        "#Q16. Write a code to create a set with the elements 1, 2, 3, 4, 5 and print it.\n",
        "sett={1,2,3,4,5}\n",
        "print(sett)"
      ],
      "metadata": {
        "colab": {
          "base_uri": "https://localhost:8080/"
        },
        "id": "pZh3yi35fbx4",
        "outputId": "3ff3c5d4-8032-484f-ba73-d1ae7577d1ff"
      },
      "execution_count": 27,
      "outputs": [
        {
          "output_type": "stream",
          "name": "stdout",
          "text": [
            "{1, 2, 3, 4, 5}\n"
          ]
        }
      ]
    },
    {
      "cell_type": "code",
      "source": [
        "#Q17. Write a code to add the element 6 to the set {1, 2, 3, 4}.\n",
        "sett={1, 2, 3, 4}\n",
        "print(sett)\n",
        "sett.add(6)\n",
        "print(sett)"
      ],
      "metadata": {
        "colab": {
          "base_uri": "https://localhost:8080/"
        },
        "id": "2LcYtlW5ftqg",
        "outputId": "9dd625fb-245c-49b2-85f9-7cdd461a25b1"
      },
      "execution_count": 31,
      "outputs": [
        {
          "output_type": "stream",
          "name": "stdout",
          "text": [
            "{1, 2, 3, 4}\n",
            "{1, 2, 3, 4, 6}\n"
          ]
        }
      ]
    },
    {
      "cell_type": "code",
      "source": [
        "#Q18. Write a code to create a tuple with the elements 10, 20, 30 and print it.\n",
        "tuplee=(10,20,30)\n",
        "print(tuplee)"
      ],
      "metadata": {
        "colab": {
          "base_uri": "https://localhost:8080/"
        },
        "id": "RbTdfcRCgm5C",
        "outputId": "2f8b11ee-3fa9-431f-d639-fb76f9c6c55b"
      },
      "execution_count": 32,
      "outputs": [
        {
          "output_type": "stream",
          "name": "stdout",
          "text": [
            "(10, 20, 30)\n"
          ]
        }
      ]
    },
    {
      "cell_type": "code",
      "source": [
        "#Q19. Write a code to access the first element of the tuple ('apple', 'banana', 'cherry').\n",
        "tuplee=('apple', 'banana', 'cherry')\n",
        "print(tuplee)\n",
        "first_ele=tuplee[1]\n",
        "print(first_ele)"
      ],
      "metadata": {
        "colab": {
          "base_uri": "https://localhost:8080/"
        },
        "id": "5r6XBYNyhE9q",
        "outputId": "dcaec42e-199f-49b2-9417-6531d3d1c332"
      },
      "execution_count": 33,
      "outputs": [
        {
          "output_type": "stream",
          "name": "stdout",
          "text": [
            "('apple', 'banana', 'cherry')\n",
            "banana\n"
          ]
        }
      ]
    },
    {
      "cell_type": "code",
      "source": [
        "#Q20. Write a code to count how many times the number 2 appears in the tuple (1, 2, 3, 2, 4, 2).\n",
        "tuplee=(1, 2, 3, 2, 4, 2)\n",
        "countt=tuplee.count(2)\n",
        "print(countt)"
      ],
      "metadata": {
        "colab": {
          "base_uri": "https://localhost:8080/"
        },
        "id": "CUofmXU7hLTF",
        "outputId": "05174d79-0524-4216-a003-3f0e48653e9f"
      },
      "execution_count": 34,
      "outputs": [
        {
          "output_type": "stream",
          "name": "stdout",
          "text": [
            "3\n"
          ]
        }
      ]
    },
    {
      "cell_type": "code",
      "source": [
        "#Q21. Write a code to find the index of the element \"cat\" in the tuple ('dog', 'cat', 'rabbit')\n",
        "tuplee=('dog', 'cat', 'rabbit')\n",
        "indexx=tuplee.index('cat')\n",
        "print(indexx)"
      ],
      "metadata": {
        "colab": {
          "base_uri": "https://localhost:8080/"
        },
        "id": "V7_I3Hj1hN6S",
        "outputId": "7a5f9edf-a1d8-4d84-ccf8-ed40c3daadd7"
      },
      "execution_count": 35,
      "outputs": [
        {
          "output_type": "stream",
          "name": "stdout",
          "text": [
            "1\n"
          ]
        }
      ]
    },
    {
      "cell_type": "code",
      "source": [
        "#Q22. Write a code to check if the element \"banana\" is in the tuple ('apple', 'orange', 'banana')\n",
        "tuplee=('apple', 'orange', 'banana')\n",
        "is_banana_in_tuple= 'banana' in tuplee\n",
        "print(is_banana_in_tuple)"
      ],
      "metadata": {
        "colab": {
          "base_uri": "https://localhost:8080/"
        },
        "id": "5JIOIlYqhVJ9",
        "outputId": "d2976936-9d10-4291-b50f-71c69f95edb2"
      },
      "execution_count": 36,
      "outputs": [
        {
          "output_type": "stream",
          "name": "stdout",
          "text": [
            "True\n"
          ]
        }
      ]
    },
    {
      "cell_type": "code",
      "source": [
        "#Q23. Write a code to create a set with the elements 1, 2, 3, 4, 5 and print it.\n",
        "sett={1,2,3,4,5}\n",
        "print(sett)"
      ],
      "metadata": {
        "colab": {
          "base_uri": "https://localhost:8080/"
        },
        "id": "Pk0u_eC2hcjR",
        "outputId": "751dcd7d-6ba0-4115-c8f6-92b826d0582c"
      },
      "execution_count": 37,
      "outputs": [
        {
          "output_type": "stream",
          "name": "stdout",
          "text": [
            "{1, 2, 3, 4, 5}\n"
          ]
        }
      ]
    },
    {
      "cell_type": "code",
      "source": [
        "#Q24. Write a code to add the element 6 to the set {1, 2, 3, 4}.\n",
        "sett={1, 2, 3, 4}\n",
        "print(sett)\n",
        "sett.add(6)\n",
        "print(sett)"
      ],
      "metadata": {
        "colab": {
          "base_uri": "https://localhost:8080/"
        },
        "id": "Q1LxJ_XghiUc",
        "outputId": "c15a88b4-e4a7-4cbd-9cd3-eaa0fd1d444a"
      },
      "execution_count": 38,
      "outputs": [
        {
          "output_type": "stream",
          "name": "stdout",
          "text": [
            "{1, 2, 3, 4}\n",
            "{1, 2, 3, 4, 6}\n"
          ]
        }
      ]
    }
  ]
}